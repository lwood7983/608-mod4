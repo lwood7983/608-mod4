{
 "cells": [
  {
   "cell_type": "code",
   "execution_count": 1,
   "id": "6cea21c2-caf7-448e-8d73-30fa06956616",
   "metadata": {},
   "outputs": [],
   "source": [
    "import string"
   ]
  },
  {
   "cell_type": "code",
   "execution_count": 2,
   "id": "b96ecc07-a963-49a5-900b-01c68f68aa81",
   "metadata": {},
   "outputs": [],
   "source": [
    "import collections"
   ]
  },
  {
   "cell_type": "code",
   "execution_count": 3,
   "id": "e56893d7-c5dc-4110-8be6-bbddf89ceb8c",
   "metadata": {},
   "outputs": [
    {
     "name": "stdout",
     "output_type": "stream",
     "text": [
      "['Jack', 'and', 'Jill', 'went', 'up', 'the', 'hill', 'To', 'fetch', 'a', 'pail', 'of', 'water', 'so', 'they', 'say', 'Their', 'subsequent', 'fall', 'was', 'inevitable', 'They', 'never', 'stood', 'a', 'chance', 'they', 'were', 'written', 'that', 'way', 'Innocent', 'victims', 'of', 'their', 'story', 'Like', 'Romeo', 'and', 'Juliet', 'Twas', 'written', 'in', 'the', 'stars', 'before', 'they', 'even', 'met', 'That', 'love', 'and', 'fate', 'and', 'a', 'touch', 'of', 'stupidity', 'Would', 'rob', 'them', 'of', 'their', 'hope', 'of', 'living', 'happily', 'The', 'endings', 'are', 'often', 'a', 'little', 'bit', 'gory', 'I', 'wonder', 'why', 'they', 'didnt', 'just', 'change', 'their', 'story', 'Were', 'told', 'we', 'have', 'to', 'do', 'what', 'were', 'told', 'but', 'surely', 'Sometimes', 'you', 'have', 'to', 'be', 'a', 'little', 'bit', 'naughty', 'Just', 'because', 'you', 'find', 'that', 'lifes', 'not', 'fair', 'it', 'Doesnt', 'mean', 'that', 'you', 'just', 'have', 'to', 'grin', 'and', 'bear', 'it', 'If', 'you', 'always', 'take', 'it', 'on', 'the', 'chin', 'and', 'wear', 'it', 'Nothing', 'will', 'change', 'Even', 'if', 'youre', 'little', 'you', 'can', 'do', 'a', 'lot', 'you', 'Mustnt', 'let', 'a', 'little', 'thing', 'like', 'little', 'stop', 'you', 'If', 'you', 'sit', 'around', 'and', 'let', 'them', 'get', 'on', 'top', 'You', 'might', 'as', 'well', 'be', 'saying', 'You', 'think', 'that', 'its', 'okay', 'And', 'thats', 'not', 'right', 'And', 'if', 'not', 'thats', 'not', 'right', 'You', 'to', 'put', 'it', 'right', 'Platinum', 'blonde', 'hair', 'dye', 'extra', 'strong', 'Keep', 'out', 'of', 'reach', 'of', 'children', 'hmm', 'Or', 'we', 'love', 'violet', 'hair', 'tonic', 'for', 'men', 'Yup', 'In', 'the', 'slip', 'of', 'a', 'bolt', 'theres', 'a', 'tiny', 'revolt', 'The', 'seeds', 'of', 'a', 'war', 'in', 'the', 'creak', 'of', 'a', 'floorboard', 'A', 'storm', 'can', 'begin', 'with', 'the', 'flap', 'of', 'a', 'wing', 'The', 'tiniest', 'mite', 'packs', 'the', 'mightiest', 'sting', 'Every', 'day', 'starts', 'with', 'the', 'tick', 'of', 'a', 'clock', 'All', 'escapes', 'start', 'with', 'the', 'click', 'of', 'a', 'lock', 'If', 'youre', 'stuck', 'in', 'your', 'story', 'and', 'want', 'to', 'get', 'out', 'You', 'dont', 'have', 'to', 'cry', 'you', 'dont', 'have', 'to', 'shout', 'Even', 'if', 'youre', 'little', 'you', 'can', 'do', 'a', 'lot', 'you', 'Mustnt', 'let', 'a', 'little', 'thing', 'like', 'little', 'stop', 'you', 'If', 'you', 'sit', 'around', 'and', 'let', 'them', 'get', 'on', 'top', 'you', 'wont', 'change', 'a', 'thing', 'Just', 'because', 'you', 'find', 'that', 'lifes', 'not', 'fair', 'it', 'Doesnt', 'mean', 'that', 'you', 'just', 'have', 'to', 'grin', 'and', 'bear', 'it', 'If', 'you', 'always', 'take', 'it', 'on', 'the', 'chin', 'and', 'wear', 'it', 'You', 'might', 'as', 'well', 'be', 'saying', 'You', 'think', 'that', 'its', 'okay', 'And', 'thats', 'not', 'right', 'And', 'if', 'its', 'not', 'right', 'You', 'have', 'to', 'put', 'it', 'right', 'But', 'nobody', 'else', 'is', 'gonna', 'put', 'it', 'right', 'for', 'me', 'Nobody', 'but', 'me', 'is', 'gonna', 'change', 'my', 'story', 'Sometimes', 'you', 'have', 'to', 'be', 'a', 'little', 'bit', 'naughty']\n"
     ]
    }
   ],
   "source": [
    "with open(\"matilda.txt\", \"r\") as f:\n",
    "    text = f.read()\n",
    "    words = text.split()\n",
    "    table = str.maketrans(\"\", \"\", string.punctuation)\n",
    "    stripped = [w.translate(table) for w in words]\n",
    "    print(stripped)"
   ]
  },
  {
   "cell_type": "code",
   "execution_count": 4,
   "id": "81d7b6f4-dfc9-4b97-9f23-75133baa7c95",
   "metadata": {},
   "outputs": [],
   "source": [
    "word_counts = {}"
   ]
  },
  {
   "cell_type": "code",
   "execution_count": 5,
   "id": "a2d03261-e8ea-4571-bf44-50379730c518",
   "metadata": {},
   "outputs": [],
   "source": [
    "for word in stripped:\n",
    "    if word in word_counts:\n",
    "        word_counts[word] += 1\n",
    "    else:\n",
    "        word_counts[word] = 1"
   ]
  },
  {
   "cell_type": "code",
   "execution_count": 6,
   "id": "223ff027-c7bb-41ff-af6f-aac49f34c730",
   "metadata": {},
   "outputs": [
    {
     "name": "stdout",
     "output_type": "stream",
     "text": [
      "WORD           COUNT\n",
      "A              1\n",
      "All            1\n",
      "And            4\n",
      "But            1\n",
      "Doesnt         2\n",
      "Even           2\n",
      "Every          1\n",
      "I              1\n",
      "If             5\n",
      "In             1\n",
      "Innocent       1\n",
      "Jack           1\n",
      "Jill           1\n",
      "Juliet         1\n",
      "Just           2\n",
      "Keep           1\n",
      "Like           1\n",
      "Mustnt         2\n",
      "Nobody         1\n",
      "Nothing        1\n",
      "Or             1\n",
      "Platinum       1\n",
      "Romeo          1\n",
      "Sometimes      2\n",
      "That           1\n",
      "The            3\n",
      "Their          1\n",
      "They           1\n",
      "To             1\n",
      "Twas           1\n",
      "Were           1\n",
      "Would          1\n",
      "You            7\n",
      "Yup            1\n",
      "a              18\n",
      "always         2\n",
      "and            11\n",
      "are            1\n",
      "around         2\n",
      "as             2\n",
      "be             4\n",
      "bear           2\n",
      "because        2\n",
      "before         1\n",
      "begin          1\n",
      "bit            3\n",
      "blonde         1\n",
      "bolt           1\n",
      "but            2\n",
      "can            3\n",
      "chance         1\n",
      "change         4\n",
      "children       1\n",
      "chin           2\n",
      "click          1\n",
      "clock          1\n",
      "creak          1\n",
      "cry            1\n",
      "day            1\n",
      "didnt          1\n",
      "do             3\n",
      "dont           2\n",
      "dye            1\n",
      "else           1\n",
      "endings        1\n",
      "escapes        1\n",
      "even           1\n",
      "extra          1\n",
      "fair           2\n",
      "fall           1\n",
      "fate           1\n",
      "fetch          1\n",
      "find           2\n",
      "flap           1\n",
      "floorboard     1\n",
      "for            2\n",
      "get            3\n",
      "gonna          2\n",
      "gory           1\n",
      "grin           2\n",
      "hair           2\n",
      "happily        1\n",
      "have           8\n",
      "hill           1\n",
      "hmm            1\n",
      "hope           1\n",
      "if             4\n",
      "in             3\n",
      "inevitable     1\n",
      "is             2\n",
      "it             11\n",
      "its            3\n",
      "just           3\n",
      "let            4\n",
      "lifes          2\n",
      "like           2\n",
      "little         9\n",
      "living         1\n",
      "lock           1\n",
      "lot            2\n",
      "love           2\n",
      "me             2\n",
      "mean           2\n",
      "men            1\n",
      "met            1\n",
      "might          2\n",
      "mightiest      1\n",
      "mite           1\n",
      "my             1\n",
      "naughty        2\n",
      "never          1\n",
      "nobody         1\n",
      "not            7\n",
      "of             13\n",
      "often          1\n",
      "okay           2\n",
      "on             4\n",
      "out            2\n",
      "packs          1\n",
      "pail           1\n",
      "put            3\n",
      "reach          1\n",
      "revolt         1\n",
      "right          7\n",
      "rob            1\n",
      "say            1\n",
      "saying         2\n",
      "seeds          1\n",
      "shout          1\n",
      "sit            2\n",
      "slip           1\n",
      "so             1\n",
      "stars          1\n",
      "start          1\n",
      "starts         1\n",
      "sting          1\n",
      "stood          1\n",
      "stop           2\n",
      "storm          1\n",
      "story          4\n",
      "strong         1\n",
      "stuck          1\n",
      "stupidity      1\n",
      "subsequent     1\n",
      "surely         1\n",
      "take           2\n",
      "that           7\n",
      "thats          3\n",
      "the            10\n",
      "their          3\n",
      "them           3\n",
      "theres         1\n",
      "they           4\n",
      "thing          3\n",
      "think          2\n",
      "tick           1\n",
      "tiniest        1\n",
      "tiny           1\n",
      "to             10\n",
      "told           2\n",
      "tonic          1\n",
      "top            2\n",
      "touch          1\n",
      "up             1\n",
      "victims        1\n",
      "violet         1\n",
      "want           1\n",
      "war            1\n",
      "was            1\n",
      "water          1\n",
      "way            1\n",
      "we             2\n",
      "wear           2\n",
      "well           2\n",
      "went           1\n",
      "were           2\n",
      "what           1\n",
      "why            1\n",
      "will           1\n",
      "wing           1\n",
      "with           3\n",
      "wonder         1\n",
      "wont           1\n",
      "written        2\n",
      "you            18\n",
      "your           1\n",
      "youre          3\n"
     ]
    }
   ],
   "source": [
    "print(f'{\"WORD\":<15}COUNT')\n",
    "\n",
    "for word, count in sorted(word_counts.items()):\n",
    "    print(f'{word:<15}{count}')"
   ]
  },
  {
   "cell_type": "code",
   "execution_count": 7,
   "id": "fb3ce62c-f82a-48ae-a19a-b01b1cc61d87",
   "metadata": {},
   "outputs": [
    {
     "name": "stdout",
     "output_type": "stream",
     "text": [
      "\n",
      "Number of unique words: 187\n"
     ]
    }
   ],
   "source": [
    "print('\\nNumber of unique words:', len(word_counts))"
   ]
  },
  {
   "cell_type": "code",
   "execution_count": 8,
   "id": "e1a46797-9db3-4eae-bfd9-0e38a67ada49",
   "metadata": {},
   "outputs": [
    {
     "name": "stdout",
     "output_type": "stream",
     "text": [
      "[('a', 18), ('you', 18), ('of', 13), ('and', 11), ('it', 11), ('the', 10), ('to', 10), ('little', 9), ('have', 8), ('that', 7)]\n"
     ]
    }
   ],
   "source": [
    "most_common = collections.Counter(stripped).most_common(10)\n",
    "print(most_common)"
   ]
  },
  {
   "cell_type": "code",
   "execution_count": null,
   "id": "09d6ba7d-0540-4690-87a4-dceaccc37e46",
   "metadata": {},
   "outputs": [],
   "source": []
  }
 ],
 "metadata": {
  "kernelspec": {
   "display_name": "Python 3 (ipykernel)",
   "language": "python",
   "name": "python3"
  },
  "language_info": {
   "codemirror_mode": {
    "name": "ipython",
    "version": 3
   },
   "file_extension": ".py",
   "mimetype": "text/x-python",
   "name": "python",
   "nbconvert_exporter": "python",
   "pygments_lexer": "ipython3",
   "version": "3.9.7"
  }
 },
 "nbformat": 4,
 "nbformat_minor": 5
}

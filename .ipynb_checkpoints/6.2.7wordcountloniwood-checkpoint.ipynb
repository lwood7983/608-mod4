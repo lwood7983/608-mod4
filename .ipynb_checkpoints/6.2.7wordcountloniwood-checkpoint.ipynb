{
 "cells": [
  {
   "cell_type": "code",
   "execution_count": 1,
   "id": "97ab69bd-56d7-425f-a7d6-5aa8eea86057",
   "metadata": {},
   "outputs": [],
   "source": [
    "# example out of book\n",
    "# fig06_02.py"
   ]
  },
  {
   "cell_type": "code",
   "execution_count": 2,
   "id": "0dc8cc2c-2ad2-4957-8aa3-967aaadf284d",
   "metadata": {},
   "outputs": [
    {
     "data": {
      "text/plain": [
       "'Tokenizing a string and counting unique words.'"
      ]
     },
     "execution_count": 2,
     "metadata": {},
     "output_type": "execute_result"
    }
   ],
   "source": [
    "\"\"\"Tokenizing a string and counting unique words.\"\"\""
   ]
  },
  {
   "cell_type": "code",
   "execution_count": 3,
   "id": "cc5d5570-5a6a-4ce6-8483-3b5bb3d1fae6",
   "metadata": {},
   "outputs": [],
   "source": [
    "text = ('this is sample text with several words ' 'this is more sample text with some different words')"
   ]
  },
  {
   "cell_type": "code",
   "execution_count": 5,
   "id": "25ef48d3-2954-4fdf-ac7d-f3475db8b50e",
   "metadata": {},
   "outputs": [],
   "source": [
    "word_counts = {}"
   ]
  },
  {
   "cell_type": "code",
   "execution_count": 6,
   "id": "56b52b86-be01-49f5-9a15-2ce9c7bd73c1",
   "metadata": {},
   "outputs": [],
   "source": [
    "# count occurances of each unique word"
   ]
  },
  {
   "cell_type": "code",
   "execution_count": 14,
   "id": "bf59be96-61af-4e97-a3f5-b6f3e7997953",
   "metadata": {},
   "outputs": [],
   "source": [
    "for word in text.split():\n",
    "    if word in word_counts:\n",
    "        word_counts[word] += 1 \n",
    "    else:\n",
    "        word_counts[word] = 1"
   ]
  },
  {
   "cell_type": "code",
   "execution_count": 15,
   "id": "71464904-c5a5-4807-8351-62c8101c7aaf",
   "metadata": {},
   "outputs": [
    {
     "name": "stdout",
     "output_type": "stream",
     "text": [
      "WORD        COUNT\n",
      "different   2\n",
      "is          4\n",
      "more        2\n",
      "sample      4\n",
      "several     2\n",
      "some        2\n",
      "text        4\n",
      "this        4\n",
      "with        4\n",
      "words       4\n",
      "\n",
      "Number of unique words: 10\n"
     ]
    }
   ],
   "source": [
    "print(f'{\"WORD\":<12}COUNT')\n",
    "for word,  count in sorted(word_counts.items()):\n",
    "    print(f'{word:<12}{count}')\n",
    "print('\\nNumber of unique words:', len(word_counts))"
   ]
  },
  {
   "cell_type": "code",
   "execution_count": 16,
   "id": "298a6a24-fcf8-434b-9aa2-3571fb3cc1a8",
   "metadata": {},
   "outputs": [],
   "source": [
    "# Project Part2, #7 and 8:  \"Modify the text to some other source that has more words than the original exmample.\n",
    "                            #Execute your modified program and show the results. Take a screenshot after executing your modified program."
   ]
  },
  {
   "cell_type": "code",
   "execution_count": 61,
   "id": "b1169b8c-d115-4c82-9add-628fdccc1b04",
   "metadata": {},
   "outputs": [],
   "source": [
    "text = (\"we're off to see the wizard \"\n",
    "        'the wonderful wizard of oz '\n",
    "        'we hear he is a whiz of a wiz '\n",
    "        'if ever a wiz there was '\n",
    "        'if ever oh ever a wiz there was '\n",
    "        'the wizard of oz is one because '\n",
    "        'because because because because because '\n",
    "        'because of the wonderful things he does '\n",
    "        \"we're off to see the wizard \"\n",
    "        'the wonderful wizard of oz')"
   ]
  },
  {
   "cell_type": "code",
   "execution_count": 62,
   "id": "8973807c-acb0-4b2d-9e6c-f05e3dca5422",
   "metadata": {},
   "outputs": [],
   "source": [
    "word_counts = {}"
   ]
  },
  {
   "cell_type": "code",
   "execution_count": 63,
   "id": "818a8f9f-e3d6-4cb3-9bb4-bd26f9cdd05f",
   "metadata": {},
   "outputs": [],
   "source": [
    "for word in text.split():\n",
    "    if word in word_counts:\n",
    "        word_counts[word] +=1 \n",
    "    else:\n",
    "        word_counts[word] = 1"
   ]
  },
  {
   "cell_type": "code",
   "execution_count": 64,
   "id": "83c94e93-af90-434d-8df2-d135bc0494c8",
   "metadata": {},
   "outputs": [
    {
     "name": "stdout",
     "output_type": "stream",
     "text": [
      "WORD           COUNT\n",
      "a              4\n",
      "because        7\n",
      "does           1\n",
      "ever           3\n",
      "he             2\n",
      "hear           1\n",
      "if             2\n",
      "is             2\n",
      "of             5\n",
      "off            2\n",
      "oh             1\n",
      "one            1\n",
      "oz             3\n",
      "see            2\n",
      "the            6\n",
      "there          2\n",
      "things         1\n",
      "to             2\n",
      "was            2\n",
      "we             1\n",
      "we're          2\n",
      "whiz           1\n",
      "wiz            3\n",
      "wizard         5\n",
      "wonderful      3\n",
      "\n",
      "Number of unique words: 25\n"
     ]
    }
   ],
   "source": [
    "print(f'{\"WORD\":<15}COUNT')\n",
    "for word, count in sorted(word_counts.items()):\n",
    "      print(f'{word:<15}{count}')\n",
    "print('\\nNumber of unique words:', len(word_counts))"
   ]
  },
  {
   "cell_type": "code",
   "execution_count": null,
   "id": "bd808934-7ec8-4b04-ab40-b0b8442ae937",
   "metadata": {},
   "outputs": [],
   "source": []
  },
  {
   "cell_type": "code",
   "execution_count": 66,
   "id": "8ae9553e-6042-4115-a991-99495666bf7f",
   "metadata": {},
   "outputs": [],
   "source": [
    "from collections import Counter"
   ]
  },
  {
   "cell_type": "code",
   "execution_count": 67,
   "id": "99b5b33f-a2de-4917-b891-7e1e915aaec0",
   "metadata": {},
   "outputs": [],
   "source": [
    "text = ('this is sample text with several word '\n",
    "        'this is sample text with some different words')"
   ]
  },
  {
   "cell_type": "code",
   "execution_count": 69,
   "id": "7e47449d-0a26-4663-9d60-c79577171343",
   "metadata": {},
   "outputs": [],
   "source": [
    "counter = Counter(text.split())"
   ]
  },
  {
   "cell_type": "code",
   "execution_count": 70,
   "id": "fbeb8917-9547-4816-8b00-028a133dc775",
   "metadata": {},
   "outputs": [
    {
     "name": "stdout",
     "output_type": "stream",
     "text": [
      "different   1\n",
      "is          2\n",
      "sample      2\n",
      "several     1\n",
      "some        1\n",
      "text        2\n",
      "this        2\n",
      "with        2\n",
      "word        1\n",
      "words       1\n"
     ]
    }
   ],
   "source": [
    "for word, count in sorted(counter.items()):\n",
    "    print(f'{word:<12}{count}')"
   ]
  },
  {
   "cell_type": "code",
   "execution_count": 71,
   "id": "607c1b63-52ea-438f-8ad5-63490ae24a42",
   "metadata": {},
   "outputs": [
    {
     "name": "stdout",
     "output_type": "stream",
     "text": [
      "Number of unique keys: 10\n"
     ]
    }
   ],
   "source": [
    "print('Number of unique keys:', len(counter.keys()))"
   ]
  },
  {
   "cell_type": "code",
   "execution_count": 72,
   "id": "6362c9ea-09cb-4248-b181-752cb65b2bc4",
   "metadata": {},
   "outputs": [],
   "source": [
    "# Self Check 6.2.8 "
   ]
  },
  {
   "cell_type": "code",
   "execution_count": 73,
   "id": "6cf126c4-91a7-4f43-9696-d530cc704e8f",
   "metadata": {},
   "outputs": [],
   "source": [
    "import random"
   ]
  },
  {
   "cell_type": "code",
   "execution_count": 75,
   "id": "be5768be-cefb-4ce0-a6c9-1dd7426aa735",
   "metadata": {},
   "outputs": [],
   "source": [
    "numbers = [random.randrange(1, 6) for i in range(50)]"
   ]
  },
  {
   "cell_type": "code",
   "execution_count": 76,
   "id": "ca5c0c83-808a-4407-b189-1efc1297d15f",
   "metadata": {},
   "outputs": [],
   "source": [
    "from collections import Counter"
   ]
  },
  {
   "cell_type": "code",
   "execution_count": 77,
   "id": "31a77f83-223e-4d2e-966f-174545b75d73",
   "metadata": {},
   "outputs": [],
   "source": [
    "counter = Counter(numbers)"
   ]
  },
  {
   "cell_type": "code",
   "execution_count": 79,
   "id": "b02c0af9-c3a4-480e-9255-5f9cf45048e7",
   "metadata": {},
   "outputs": [
    {
     "name": "stdout",
     "output_type": "stream",
     "text": [
      "1   10\n",
      "2   7\n",
      "3   10\n",
      "4   7\n",
      "5   16\n"
     ]
    }
   ],
   "source": [
    "for value, count in sorted(counter.items()):\n",
    "    print(f'{value:<4}{count}')"
   ]
  },
  {
   "cell_type": "code",
   "execution_count": null,
   "id": "1aa7ed80-8622-4bf5-a2a1-2b25a70a66e7",
   "metadata": {},
   "outputs": [],
   "source": []
  }
 ],
 "metadata": {
  "kernelspec": {
   "display_name": "Python 3 (ipykernel)",
   "language": "python",
   "name": "python3"
  },
  "language_info": {
   "codemirror_mode": {
    "name": "ipython",
    "version": 3
   },
   "file_extension": ".py",
   "mimetype": "text/x-python",
   "name": "python",
   "nbconvert_exporter": "python",
   "pygments_lexer": "ipython3",
   "version": "3.9.7"
  }
 },
 "nbformat": 4,
 "nbformat_minor": 5
}

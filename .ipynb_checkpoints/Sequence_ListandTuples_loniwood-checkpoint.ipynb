{
 "cells": [
  {
   "cell_type": "code",
   "execution_count": 1,
   "id": "345691cd-e332-4370-b8e0-b4da404b9e28",
   "metadata": {},
   "outputs": [],
   "source": [
    "numbers = [2, 3, 5, 7, 11, 13, 17, 19]"
   ]
  },
  {
   "cell_type": "code",
   "execution_count": 2,
   "id": "56059a46-8ae0-47c4-bfe2-a1dd44e837b1",
   "metadata": {},
   "outputs": [
    {
     "data": {
      "text/plain": [
       "[5, 7, 11, 13]"
      ]
     },
     "execution_count": 2,
     "metadata": {},
     "output_type": "execute_result"
    }
   ],
   "source": [
    "numbers[2:6]"
   ]
  },
  {
   "cell_type": "code",
   "execution_count": 3,
   "id": "5e06de05-0a89-44d4-8f24-362dfa72d60e",
   "metadata": {},
   "outputs": [
    {
     "data": {
      "text/plain": [
       "[2, 3, 5, 7, 11, 13]"
      ]
     },
     "execution_count": 3,
     "metadata": {},
     "output_type": "execute_result"
    }
   ],
   "source": [
    "numbers[:6]"
   ]
  },
  {
   "cell_type": "code",
   "execution_count": 4,
   "id": "adeeb18c-9b33-44f9-b943-8bb122279b1f",
   "metadata": {},
   "outputs": [
    {
     "data": {
      "text/plain": [
       "[2, 3, 5, 7, 11, 13]"
      ]
     },
     "execution_count": 4,
     "metadata": {},
     "output_type": "execute_result"
    }
   ],
   "source": [
    "numbers[0:6]"
   ]
  },
  {
   "cell_type": "code",
   "execution_count": 5,
   "id": "7afc30ae-771c-4826-ad7c-51fefbe611bb",
   "metadata": {},
   "outputs": [
    {
     "data": {
      "text/plain": [
       "[17, 19]"
      ]
     },
     "execution_count": 5,
     "metadata": {},
     "output_type": "execute_result"
    }
   ],
   "source": [
    "numbers[6:]"
   ]
  },
  {
   "cell_type": "code",
   "execution_count": 7,
   "id": "34b9a3cf-7b81-4c9d-8f50-9360df47936e",
   "metadata": {},
   "outputs": [
    {
     "data": {
      "text/plain": [
       "[17, 19]"
      ]
     },
     "execution_count": 7,
     "metadata": {},
     "output_type": "execute_result"
    }
   ],
   "source": [
    "numbers[6:len(numbers)]   # this example is telling me that indices 6 - len which is the count of the numbers"
   ]
  },
  {
   "cell_type": "code",
   "execution_count": 8,
   "id": "b4c67f4c-2a26-4191-8db2-1d49e7015fc5",
   "metadata": {},
   "outputs": [
    {
     "data": {
      "text/plain": [
       "[2, 3, 5, 7, 11, 13, 17, 19]"
      ]
     },
     "execution_count": 8,
     "metadata": {},
     "output_type": "execute_result"
    }
   ],
   "source": [
    "numbers[:]"
   ]
  },
  {
   "cell_type": "code",
   "execution_count": 9,
   "id": "05105bde-0804-47f6-8c56-cf67b5c1328d",
   "metadata": {},
   "outputs": [
    {
     "data": {
      "text/plain": [
       "[2, 5, 11, 17]"
      ]
     },
     "execution_count": 9,
     "metadata": {},
     "output_type": "execute_result"
    }
   ],
   "source": [
    "numbers[::2]"
   ]
  },
  {
   "cell_type": "code",
   "execution_count": 10,
   "id": "f44b25f0-c3f7-4460-b52a-0e1a4b7bcb78",
   "metadata": {},
   "outputs": [
    {
     "data": {
      "text/plain": [
       "[19, 17, 13, 11, 7, 5, 3, 2]"
      ]
     },
     "execution_count": 10,
     "metadata": {},
     "output_type": "execute_result"
    }
   ],
   "source": [
    "numbers[::-1]"
   ]
  },
  {
   "cell_type": "code",
   "execution_count": 11,
   "id": "5768e55b-5ed9-4dd2-a66c-c0def6e35590",
   "metadata": {},
   "outputs": [
    {
     "data": {
      "text/plain": [
       "[19, 17, 13, 11, 7, 5, 3, 2]"
      ]
     },
     "execution_count": 11,
     "metadata": {},
     "output_type": "execute_result"
    }
   ],
   "source": [
    "numbers[-1:-9:-1]"
   ]
  },
  {
   "cell_type": "code",
   "execution_count": 12,
   "id": "93d363c7-6375-43aa-b1f1-4e7d7cfcd54b",
   "metadata": {},
   "outputs": [],
   "source": [
    "numbers[0:3] = ['two', 'three', 'five']"
   ]
  },
  {
   "cell_type": "code",
   "execution_count": 13,
   "id": "a868eced-b1a1-4c7f-b503-215f73a5d622",
   "metadata": {},
   "outputs": [
    {
     "data": {
      "text/plain": [
       "['two', 'three', 'five', 7, 11, 13, 17, 19]"
      ]
     },
     "execution_count": 13,
     "metadata": {},
     "output_type": "execute_result"
    }
   ],
   "source": [
    "numbers"
   ]
  },
  {
   "cell_type": "code",
   "execution_count": 14,
   "id": "6f2fc3c7-d733-4592-8ade-85b7bcb4053b",
   "metadata": {},
   "outputs": [],
   "source": [
    "numbers[0:3] = []"
   ]
  },
  {
   "cell_type": "code",
   "execution_count": 15,
   "id": "4896b1d8-1eda-45bf-acb3-994d3b6864cf",
   "metadata": {},
   "outputs": [
    {
     "data": {
      "text/plain": [
       "[7, 11, 13, 17, 19]"
      ]
     },
     "execution_count": 15,
     "metadata": {},
     "output_type": "execute_result"
    }
   ],
   "source": [
    "numbers"
   ]
  },
  {
   "cell_type": "code",
   "execution_count": 16,
   "id": "5e09f88a-79f8-443e-8ab4-e35cd0b5d122",
   "metadata": {},
   "outputs": [],
   "source": [
    "numbers = [2, 3, 5, 7, 11, 13, 17, 19]"
   ]
  },
  {
   "cell_type": "code",
   "execution_count": 17,
   "id": "ce3fb4f1-48b3-4e00-afce-722881ba3181",
   "metadata": {},
   "outputs": [],
   "source": [
    "numbers[::2] = [100, 100, 100, 100]"
   ]
  },
  {
   "cell_type": "code",
   "execution_count": 18,
   "id": "e2890869-0224-49be-9777-f15a8e7c0899",
   "metadata": {},
   "outputs": [
    {
     "data": {
      "text/plain": [
       "[100, 3, 100, 7, 100, 13, 100, 19]"
      ]
     },
     "execution_count": 18,
     "metadata": {},
     "output_type": "execute_result"
    }
   ],
   "source": [
    "numbers"
   ]
  },
  {
   "cell_type": "code",
   "execution_count": 19,
   "id": "ddbf3009-9d46-4658-bea5-fa8712bd3c71",
   "metadata": {},
   "outputs": [
    {
     "data": {
      "text/plain": [
       "2464927196032"
      ]
     },
     "execution_count": 19,
     "metadata": {},
     "output_type": "execute_result"
    }
   ],
   "source": [
    "id(numbers)"
   ]
  },
  {
   "cell_type": "code",
   "execution_count": 20,
   "id": "27fca91b-9d0a-4220-9e2e-7455fc89c7ae",
   "metadata": {},
   "outputs": [],
   "source": [
    "numbers[:] = []"
   ]
  },
  {
   "cell_type": "code",
   "execution_count": 21,
   "id": "33156e9f-0201-487b-af9e-746ca7fe69f8",
   "metadata": {},
   "outputs": [
    {
     "data": {
      "text/plain": [
       "[]"
      ]
     },
     "execution_count": 21,
     "metadata": {},
     "output_type": "execute_result"
    }
   ],
   "source": [
    "numbers"
   ]
  },
  {
   "cell_type": "code",
   "execution_count": 22,
   "id": "5d3ff451-c3f0-48f5-b37c-1188d98429e3",
   "metadata": {},
   "outputs": [
    {
     "data": {
      "text/plain": [
       "2464927196032"
      ]
     },
     "execution_count": 22,
     "metadata": {},
     "output_type": "execute_result"
    }
   ],
   "source": [
    "id(numbers)"
   ]
  },
  {
   "cell_type": "code",
   "execution_count": 23,
   "id": "57c9ba7d-4f9e-4569-9904-0e881b6e28f3",
   "metadata": {},
   "outputs": [],
   "source": [
    "numbers = []"
   ]
  },
  {
   "cell_type": "code",
   "execution_count": 24,
   "id": "20033ae6-1ed2-429f-98a5-d3f698487c60",
   "metadata": {},
   "outputs": [
    {
     "data": {
      "text/plain": [
       "[]"
      ]
     },
     "execution_count": 24,
     "metadata": {},
     "output_type": "execute_result"
    }
   ],
   "source": [
    "numbers"
   ]
  },
  {
   "cell_type": "code",
   "execution_count": 25,
   "id": "65ba712e-3f9c-4c69-afbc-19115b84792b",
   "metadata": {},
   "outputs": [
    {
     "data": {
      "text/plain": [
       "2464927461440"
      ]
     },
     "execution_count": 25,
     "metadata": {},
     "output_type": "execute_result"
    }
   ],
   "source": [
    "id(numbers)"
   ]
  },
  {
   "cell_type": "code",
   "execution_count": 26,
   "id": "dcca4ec8-2279-4882-a92e-c619caea94fa",
   "metadata": {},
   "outputs": [],
   "source": [
    "# Self Check 5.5 3"
   ]
  },
  {
   "cell_type": "code",
   "execution_count": 27,
   "id": "340aefa0-d219-48a3-a65a-000d77ee8719",
   "metadata": {},
   "outputs": [],
   "source": [
    "numbers = list(range(1, 16))"
   ]
  },
  {
   "cell_type": "code",
   "execution_count": 28,
   "id": "2788c67f-084a-4d94-988c-bb28f11a2d43",
   "metadata": {},
   "outputs": [
    {
     "data": {
      "text/plain": [
       "[1, 2, 3, 4, 5, 6, 7, 8, 9, 10, 11, 12, 13, 14, 15]"
      ]
     },
     "execution_count": 28,
     "metadata": {},
     "output_type": "execute_result"
    }
   ],
   "source": [
    "numbers"
   ]
  },
  {
   "cell_type": "code",
   "execution_count": 29,
   "id": "694f0e2e-ab22-4f8e-a3b9-4bec8aa40185",
   "metadata": {},
   "outputs": [
    {
     "data": {
      "text/plain": [
       "[2, 4, 6, 8, 10, 12, 14]"
      ]
     },
     "execution_count": 29,
     "metadata": {},
     "output_type": "execute_result"
    }
   ],
   "source": [
    "numbers[1:len(numbers):2]"
   ]
  },
  {
   "cell_type": "code",
   "execution_count": 30,
   "id": "e3ba5805-afe7-49bb-8446-2d0b0a9887ed",
   "metadata": {},
   "outputs": [],
   "source": [
    "numbers[5:10] = [0] * len(numbers[5:10])"
   ]
  },
  {
   "cell_type": "code",
   "execution_count": 31,
   "id": "fae800ea-af28-4ea6-8523-030036c35d4c",
   "metadata": {},
   "outputs": [
    {
     "data": {
      "text/plain": [
       "[1, 2, 3, 4, 5, 0, 0, 0, 0, 0, 11, 12, 13, 14, 15]"
      ]
     },
     "execution_count": 31,
     "metadata": {},
     "output_type": "execute_result"
    }
   ],
   "source": [
    "numbers"
   ]
  },
  {
   "cell_type": "code",
   "execution_count": 32,
   "id": "24a1871d-634d-4243-bf65-5a8c36d62477",
   "metadata": {},
   "outputs": [],
   "source": [
    "numbers[5:] = []"
   ]
  },
  {
   "cell_type": "code",
   "execution_count": 33,
   "id": "acc1e127-3790-4cca-a618-4aff7082b772",
   "metadata": {},
   "outputs": [
    {
     "data": {
      "text/plain": [
       "[1, 2, 3, 4, 5]"
      ]
     },
     "execution_count": 33,
     "metadata": {},
     "output_type": "execute_result"
    }
   ],
   "source": [
    "numbers"
   ]
  },
  {
   "cell_type": "code",
   "execution_count": 34,
   "id": "3f7c075d-1234-44cc-80a8-1c7e9d39577a",
   "metadata": {},
   "outputs": [],
   "source": [
    "numbers[:] = []"
   ]
  },
  {
   "cell_type": "code",
   "execution_count": 35,
   "id": "10dcdd9a-6876-4c94-9a0f-55e40b6062fe",
   "metadata": {},
   "outputs": [
    {
     "data": {
      "text/plain": [
       "[]"
      ]
     },
     "execution_count": 35,
     "metadata": {},
     "output_type": "execute_result"
    }
   ],
   "source": [
    "numbers"
   ]
  },
  {
   "cell_type": "code",
   "execution_count": 48,
   "id": "07eb0778-0075-46ae-b330-2c5002c2886a",
   "metadata": {},
   "outputs": [],
   "source": [
    "names = ['Romeo', 'Juliet', 'Romeo', 'Juliet', 'Romeo', 'Juliet']"
   ]
  },
  {
   "cell_type": "code",
   "execution_count": 49,
   "id": "9ea66718-98b5-434e-879d-ced52ac2b1b2",
   "metadata": {},
   "outputs": [
    {
     "data": {
      "text/plain": [
       "['Romeo', 'Juliet', 'Romeo', 'Juliet', 'Romeo', 'Juliet']"
      ]
     },
     "execution_count": 49,
     "metadata": {},
     "output_type": "execute_result"
    }
   ],
   "source": [
    "names"
   ]
  },
  {
   "cell_type": "code",
   "execution_count": 50,
   "id": "76b87580-49fa-41ef-a2b5-739f8b1abaf2",
   "metadata": {},
   "outputs": [],
   "source": [
    "names[::2] = ['Sarah', 'Liz', 'Angela']"
   ]
  },
  {
   "cell_type": "code",
   "execution_count": 51,
   "id": "8f61274a-5db8-43ab-beb7-54416269f8f2",
   "metadata": {},
   "outputs": [
    {
     "data": {
      "text/plain": [
       "['Sarah', 'Juliet', 'Liz', 'Juliet', 'Angela', 'Juliet']"
      ]
     },
     "execution_count": 51,
     "metadata": {},
     "output_type": "execute_result"
    }
   ],
   "source": [
    "names"
   ]
  },
  {
   "cell_type": "code",
   "execution_count": 52,
   "id": "7c5a59ec-5a88-4947-a2f3-5b13ec2c9a25",
   "metadata": {},
   "outputs": [],
   "source": [
    "numbers = list(range(0, 10))"
   ]
  },
  {
   "cell_type": "code",
   "execution_count": 53,
   "id": "cd9a131f-de20-487f-a47c-eca750958120",
   "metadata": {},
   "outputs": [
    {
     "data": {
      "text/plain": [
       "[0, 1, 2, 3, 4, 5, 6, 7, 8, 9]"
      ]
     },
     "execution_count": 53,
     "metadata": {},
     "output_type": "execute_result"
    }
   ],
   "source": [
    "numbers"
   ]
  },
  {
   "cell_type": "code",
   "execution_count": 54,
   "id": "17ddd195-1524-402e-b3bb-dff80ff42e4a",
   "metadata": {},
   "outputs": [],
   "source": [
    "del numbers[-1]"
   ]
  },
  {
   "cell_type": "code",
   "execution_count": 55,
   "id": "e4da92c1-fb59-4d3e-a8ae-cf5a095ba3d9",
   "metadata": {},
   "outputs": [
    {
     "data": {
      "text/plain": [
       "[0, 1, 2, 3, 4, 5, 6, 7, 8]"
      ]
     },
     "execution_count": 55,
     "metadata": {},
     "output_type": "execute_result"
    }
   ],
   "source": [
    "numbers"
   ]
  },
  {
   "cell_type": "code",
   "execution_count": 56,
   "id": "82e6f8cd-236c-4ac6-8e23-0d6a790838d4",
   "metadata": {},
   "outputs": [],
   "source": [
    "del numbers[0:2]"
   ]
  },
  {
   "cell_type": "code",
   "execution_count": 57,
   "id": "d9e5fcad-9a7f-4695-91f8-8967d9829c20",
   "metadata": {},
   "outputs": [
    {
     "data": {
      "text/plain": [
       "[2, 3, 4, 5, 6, 7, 8]"
      ]
     },
     "execution_count": 57,
     "metadata": {},
     "output_type": "execute_result"
    }
   ],
   "source": [
    "numbers"
   ]
  },
  {
   "cell_type": "code",
   "execution_count": 58,
   "id": "71c2d8bd-8304-447a-b910-482799180040",
   "metadata": {},
   "outputs": [],
   "source": [
    "del numbers[::2]"
   ]
  },
  {
   "cell_type": "code",
   "execution_count": 59,
   "id": "0024e689-0111-4706-8d63-c34abcfc42c9",
   "metadata": {},
   "outputs": [
    {
     "data": {
      "text/plain": [
       "[3, 5, 7]"
      ]
     },
     "execution_count": 59,
     "metadata": {},
     "output_type": "execute_result"
    }
   ],
   "source": [
    "numbers"
   ]
  },
  {
   "cell_type": "code",
   "execution_count": 60,
   "id": "9876c828-304a-4855-9a46-f3023c70da9e",
   "metadata": {},
   "outputs": [],
   "source": [
    "del numbers[:]"
   ]
  },
  {
   "cell_type": "code",
   "execution_count": 61,
   "id": "056ba453-6c89-4ae4-9fa9-7c4feddf5e52",
   "metadata": {},
   "outputs": [
    {
     "data": {
      "text/plain": [
       "[]"
      ]
     },
     "execution_count": 61,
     "metadata": {},
     "output_type": "execute_result"
    }
   ],
   "source": [
    "numbers"
   ]
  },
  {
   "cell_type": "code",
   "execution_count": 62,
   "id": "60609476-30d7-410b-bc56-89047573c3c2",
   "metadata": {},
   "outputs": [],
   "source": [
    "del numbers"
   ]
  },
  {
   "cell_type": "code",
   "execution_count": 63,
   "id": "4562f141-0a5f-4050-98bf-5bdbc46f3ead",
   "metadata": {},
   "outputs": [
    {
     "ename": "NameError",
     "evalue": "name 'numbers' is not defined",
     "output_type": "error",
     "traceback": [
      "\u001b[1;31m---------------------------------------------------------------------------\u001b[0m",
      "\u001b[1;31mNameError\u001b[0m                                 Traceback (most recent call last)",
      "Input \u001b[1;32mIn [63]\u001b[0m, in \u001b[0;36m<module>\u001b[1;34m\u001b[0m\n\u001b[1;32m----> 1\u001b[0m \u001b[43mnumbers\u001b[49m\n",
      "\u001b[1;31mNameError\u001b[0m: name 'numbers' is not defined"
     ]
    }
   ],
   "source": [
    "numbers"
   ]
  },
  {
   "cell_type": "code",
   "execution_count": 64,
   "id": "73156793-fd9c-4139-bb3e-5573212db664",
   "metadata": {},
   "outputs": [],
   "source": [
    "# Self Check 5.6 2"
   ]
  },
  {
   "cell_type": "code",
   "execution_count": 66,
   "id": "fa143ca6-1875-43dc-8a3f-68e81cf7193e",
   "metadata": {},
   "outputs": [],
   "source": [
    "numbers = list(range(1, 16))"
   ]
  },
  {
   "cell_type": "code",
   "execution_count": 67,
   "id": "9de356d3-39f1-496a-81d9-13269ad5ca27",
   "metadata": {},
   "outputs": [
    {
     "data": {
      "text/plain": [
       "[1, 2, 3, 4, 5, 6, 7, 8, 9, 10, 11, 12, 13, 14, 15]"
      ]
     },
     "execution_count": 67,
     "metadata": {},
     "output_type": "execute_result"
    }
   ],
   "source": [
    "numbers"
   ]
  },
  {
   "cell_type": "code",
   "execution_count": 68,
   "id": "4cb4ec42-2aab-490a-a929-464d220c7877",
   "metadata": {},
   "outputs": [],
   "source": [
    "del numbers[0:4]"
   ]
  },
  {
   "cell_type": "code",
   "execution_count": 69,
   "id": "5741d656-0fa0-4060-9f90-0f8cd71f5a44",
   "metadata": {},
   "outputs": [
    {
     "data": {
      "text/plain": [
       "[5, 6, 7, 8, 9, 10, 11, 12, 13, 14, 15]"
      ]
     },
     "execution_count": 69,
     "metadata": {},
     "output_type": "execute_result"
    }
   ],
   "source": [
    "numbers"
   ]
  },
  {
   "cell_type": "code",
   "execution_count": 70,
   "id": "d8c0b336-cfaf-442c-a99f-f9ed29370ea4",
   "metadata": {},
   "outputs": [],
   "source": [
    "del numbers[::2]"
   ]
  },
  {
   "cell_type": "code",
   "execution_count": 71,
   "id": "ae427c1e-50bf-4588-aae5-7bc0d5a6f683",
   "metadata": {},
   "outputs": [
    {
     "data": {
      "text/plain": [
       "[6, 8, 10, 12, 14]"
      ]
     },
     "execution_count": 71,
     "metadata": {},
     "output_type": "execute_result"
    }
   ],
   "source": [
    "numbers"
   ]
  },
  {
   "cell_type": "code",
   "execution_count": 77,
   "id": "11279b04-e7ff-4dc9-9635-46bf46d67fb1",
   "metadata": {},
   "outputs": [],
   "source": [
    "def modify_elements(items):\n",
    "    \"\"\"Multiplies all element values in items by 2.\"\"\"\n",
    "    for i in range(len(items)):\n",
    "        items[i] *= 2\n",
    "        "
   ]
  },
  {
   "cell_type": "code",
   "execution_count": 78,
   "id": "07ce2d94-3cc6-4c9a-a6d0-42c1ba4bfcea",
   "metadata": {},
   "outputs": [],
   "source": [
    "numbers = [10, 3, 7, 1, 9]"
   ]
  },
  {
   "cell_type": "code",
   "execution_count": 79,
   "id": "be6268d5-1576-48dd-841d-6e20813621b9",
   "metadata": {},
   "outputs": [],
   "source": [
    "modify_elements(numbers)"
   ]
  },
  {
   "cell_type": "code",
   "execution_count": 80,
   "id": "153d6f07-283d-46c8-b68b-ce0552fb1d19",
   "metadata": {},
   "outputs": [
    {
     "data": {
      "text/plain": [
       "[20, 6, 14, 2, 18]"
      ]
     },
     "execution_count": 80,
     "metadata": {},
     "output_type": "execute_result"
    }
   ],
   "source": [
    "numbers"
   ]
  },
  {
   "cell_type": "code",
   "execution_count": 85,
   "id": "0b8b3f7c-dd1b-40d1-b718-67b76b4e5a64",
   "metadata": {},
   "outputs": [],
   "source": [
    "numbers_tuple = (10, 20, 30)"
   ]
  },
  {
   "cell_type": "code",
   "execution_count": 86,
   "id": "34f861b6-af43-40aa-9ed7-01bee5d57f9f",
   "metadata": {},
   "outputs": [
    {
     "data": {
      "text/plain": [
       "(10, 20, 30)"
      ]
     },
     "execution_count": 86,
     "metadata": {},
     "output_type": "execute_result"
    }
   ],
   "source": [
    "numbers_tuple"
   ]
  },
  {
   "cell_type": "code",
   "execution_count": 87,
   "id": "d4be9103-d049-4ee4-a52c-fed6f8f3e565",
   "metadata": {},
   "outputs": [
    {
     "ename": "TypeError",
     "evalue": "'tuple' object does not support item assignment",
     "output_type": "error",
     "traceback": [
      "\u001b[1;31m---------------------------------------------------------------------------\u001b[0m",
      "\u001b[1;31mTypeError\u001b[0m                                 Traceback (most recent call last)",
      "Input \u001b[1;32mIn [87]\u001b[0m, in \u001b[0;36m<module>\u001b[1;34m\u001b[0m\n\u001b[1;32m----> 1\u001b[0m \u001b[43mmodify_elements\u001b[49m\u001b[43m(\u001b[49m\u001b[43mnumbers_tuple\u001b[49m\u001b[43m)\u001b[49m\n",
      "Input \u001b[1;32mIn [77]\u001b[0m, in \u001b[0;36mmodify_elements\u001b[1;34m(items)\u001b[0m\n\u001b[0;32m      2\u001b[0m \u001b[38;5;124;03m\"\"\"Multiplies all element values in items by 2.\"\"\"\u001b[39;00m\n\u001b[0;32m      3\u001b[0m \u001b[38;5;28;01mfor\u001b[39;00m i \u001b[38;5;129;01min\u001b[39;00m \u001b[38;5;28mrange\u001b[39m(\u001b[38;5;28mlen\u001b[39m(items)):\n\u001b[1;32m----> 4\u001b[0m     items[i] \u001b[38;5;241m*\u001b[39m\u001b[38;5;241m=\u001b[39m \u001b[38;5;241m2\u001b[39m\n",
      "\u001b[1;31mTypeError\u001b[0m: 'tuple' object does not support item assignment"
     ]
    }
   ],
   "source": [
    "modify_elements(numbers_tuple)"
   ]
  },
  {
   "cell_type": "code",
   "execution_count": 1,
   "id": "4448f332-85de-48d3-98f3-58f2e4d91893",
   "metadata": {},
   "outputs": [],
   "source": [
    "numbers = [10, 3, 7, 1, 9, 4, 2, 8, 5, 6]"
   ]
  },
  {
   "cell_type": "code",
   "execution_count": 2,
   "id": "cf688799-4804-4638-b826-6a6355d7af5c",
   "metadata": {},
   "outputs": [],
   "source": [
    "numbers.sort()"
   ]
  },
  {
   "cell_type": "code",
   "execution_count": 3,
   "id": "ed654ed5-7dbb-423f-8520-fd52e472be23",
   "metadata": {},
   "outputs": [
    {
     "data": {
      "text/plain": [
       "[1, 2, 3, 4, 5, 6, 7, 8, 9, 10]"
      ]
     },
     "execution_count": 3,
     "metadata": {},
     "output_type": "execute_result"
    }
   ],
   "source": [
    "numbers"
   ]
  },
  {
   "cell_type": "code",
   "execution_count": 4,
   "id": "4de2bfc2-02c1-4a10-8106-268dc1e5aa09",
   "metadata": {},
   "outputs": [],
   "source": [
    "numbers.sort(reverse=True)"
   ]
  },
  {
   "cell_type": "code",
   "execution_count": 5,
   "id": "5268adf0-1bc5-4ae3-af43-ec434666d518",
   "metadata": {},
   "outputs": [
    {
     "data": {
      "text/plain": [
       "[10, 9, 8, 7, 6, 5, 4, 3, 2, 1]"
      ]
     },
     "execution_count": 5,
     "metadata": {},
     "output_type": "execute_result"
    }
   ],
   "source": [
    "numbers"
   ]
  },
  {
   "cell_type": "code",
   "execution_count": 6,
   "id": "64eaaf55-3d09-47f7-b768-30f29160ccf5",
   "metadata": {},
   "outputs": [],
   "source": [
    "numbers = [10, 3, 7, 1, 9, 4, 2, 8, 5, 6]"
   ]
  },
  {
   "cell_type": "code",
   "execution_count": 7,
   "id": "8a7adf02-c3f0-428b-8bad-15bf154d218d",
   "metadata": {},
   "outputs": [],
   "source": [
    "ascending_numbers = sorted(numbers)"
   ]
  },
  {
   "cell_type": "code",
   "execution_count": 8,
   "id": "c862241c-43f0-4d18-b393-17ebb5176b54",
   "metadata": {},
   "outputs": [
    {
     "data": {
      "text/plain": [
       "[1, 2, 3, 4, 5, 6, 7, 8, 9, 10]"
      ]
     },
     "execution_count": 8,
     "metadata": {},
     "output_type": "execute_result"
    }
   ],
   "source": [
    "ascending_numbers"
   ]
  },
  {
   "cell_type": "code",
   "execution_count": 9,
   "id": "9f25700d-3498-40b9-829b-776e74a6ccda",
   "metadata": {},
   "outputs": [
    {
     "data": {
      "text/plain": [
       "[10, 3, 7, 1, 9, 4, 2, 8, 5, 6]"
      ]
     },
     "execution_count": 9,
     "metadata": {},
     "output_type": "execute_result"
    }
   ],
   "source": [
    "numbers"
   ]
  },
  {
   "cell_type": "code",
   "execution_count": 10,
   "id": "ffcf930e-3e13-4461-b843-997b6d321609",
   "metadata": {},
   "outputs": [],
   "source": [
    "letters = 'fadgchjebi'"
   ]
  },
  {
   "cell_type": "code",
   "execution_count": 12,
   "id": "b21768e6-6ba1-44a1-b091-ff4c8ff56c53",
   "metadata": {},
   "outputs": [],
   "source": [
    "ascending_letters = sorted(letters)"
   ]
  },
  {
   "cell_type": "code",
   "execution_count": 13,
   "id": "18eb18d9-ea29-4f9b-907d-1a8aa1a6edd3",
   "metadata": {},
   "outputs": [
    {
     "data": {
      "text/plain": [
       "['a', 'b', 'c', 'd', 'e', 'f', 'g', 'h', 'i', 'j']"
      ]
     },
     "execution_count": 13,
     "metadata": {},
     "output_type": "execute_result"
    }
   ],
   "source": [
    "ascending_letters"
   ]
  },
  {
   "cell_type": "code",
   "execution_count": 14,
   "id": "744e63c0-dca8-4185-9d12-1d0a1cbfb8c1",
   "metadata": {},
   "outputs": [
    {
     "data": {
      "text/plain": [
       "'fadgchjebi'"
      ]
     },
     "execution_count": 14,
     "metadata": {},
     "output_type": "execute_result"
    }
   ],
   "source": [
    "letters"
   ]
  },
  {
   "cell_type": "code",
   "execution_count": 15,
   "id": "8e41b100-b233-412d-b1ee-d374f4bdf289",
   "metadata": {},
   "outputs": [],
   "source": [
    "colors = ('red', 'orange', 'yellow', 'green', 'blue')"
   ]
  },
  {
   "cell_type": "code",
   "execution_count": 16,
   "id": "d975fcd4-2189-42f7-b58a-dcfa4c15614c",
   "metadata": {},
   "outputs": [],
   "source": [
    "ascending_colors = sorted(colors)"
   ]
  },
  {
   "cell_type": "code",
   "execution_count": 28,
   "id": "79ef3b74-de1b-4858-90bc-3ca87f3cfb36",
   "metadata": {},
   "outputs": [
    {
     "data": {
      "text/plain": [
       "['blue', 'green', 'orange', 'red', 'yellow']"
      ]
     },
     "execution_count": 28,
     "metadata": {},
     "output_type": "execute_result"
    }
   ],
   "source": [
    "ascending_colors"
   ]
  },
  {
   "cell_type": "code",
   "execution_count": 33,
   "id": "640217cf-18bc-4b1b-a110-78831b8a7ae2",
   "metadata": {},
   "outputs": [
    {
     "data": {
      "text/plain": [
       "('red', 'orange', 'yellow', 'green', 'blue')"
      ]
     },
     "execution_count": 33,
     "metadata": {},
     "output_type": "execute_result"
    }
   ],
   "source": [
    "colors"
   ]
  },
  {
   "cell_type": "code",
   "execution_count": 34,
   "id": "a3aab8f4-3e27-4d4a-a008-25d2a645e3e4",
   "metadata": {},
   "outputs": [
    {
     "data": {
      "text/plain": [
       "['yellow', 'red', 'orange', 'green', 'blue']"
      ]
     },
     "execution_count": 34,
     "metadata": {},
     "output_type": "execute_result"
    }
   ],
   "source": [
    "sorted(colors, reverse=True)  #builit in function for descending order"
   ]
  },
  {
   "cell_type": "code",
   "execution_count": 35,
   "id": "3864510d-b814-4742-b15b-5d1cee3a647a",
   "metadata": {},
   "outputs": [],
   "source": [
    "# Self Check 5.8 3"
   ]
  },
  {
   "cell_type": "code",
   "execution_count": 40,
   "id": "cb82460b-ebe2-4289-90c0-71573b49075b",
   "metadata": {},
   "outputs": [],
   "source": [
    "foods = ['Cookies', 'pizza', 'Grapes', 'apples', 'steak', 'Bacon']  #This will sort via Uppercase first then lower case"
   ]
  },
  {
   "cell_type": "code",
   "execution_count": 38,
   "id": "eb56009c-b061-44bd-94ed-86d4af0d4ecf",
   "metadata": {},
   "outputs": [],
   "source": [
    "foods.sort()"
   ]
  },
  {
   "cell_type": "code",
   "execution_count": 39,
   "id": "7182e393-983e-492e-8155-ebbdf4f0e077",
   "metadata": {},
   "outputs": [
    {
     "data": {
      "text/plain": [
       "['Bacon', 'Cookies', 'Grapes', 'apples', 'pizza', 'steak']"
      ]
     },
     "execution_count": 39,
     "metadata": {},
     "output_type": "execute_result"
    }
   ],
   "source": [
    "foods"
   ]
  },
  {
   "cell_type": "code",
   "execution_count": 41,
   "id": "25db94f5-d1b7-42c9-976f-90a60938b9ec",
   "metadata": {},
   "outputs": [],
   "source": [
    "numbers = [3, 7, 1, 4, 2, 8, 5, 6]"
   ]
  },
  {
   "cell_type": "code",
   "execution_count": 42,
   "id": "1df4ca9c-1e54-4c62-a9c8-22aeac6702c7",
   "metadata": {},
   "outputs": [
    {
     "data": {
      "text/plain": [
       "6"
      ]
     },
     "execution_count": 42,
     "metadata": {},
     "output_type": "execute_result"
    }
   ],
   "source": [
    "numbers.index(5)"
   ]
  },
  {
   "cell_type": "code",
   "execution_count": 43,
   "id": "8766bb49-779d-4699-b78f-ee8de00e4209",
   "metadata": {},
   "outputs": [],
   "source": [
    "numbers *= 2"
   ]
  },
  {
   "cell_type": "code",
   "execution_count": 46,
   "id": "5f17c3e2-432d-4301-945e-5d009e2b2e39",
   "metadata": {},
   "outputs": [
    {
     "data": {
      "text/plain": [
       "[3, 7, 1, 4, 2, 8, 5, 6, 3, 7, 1, 4, 2, 8, 5, 6]"
      ]
     },
     "execution_count": 46,
     "metadata": {},
     "output_type": "execute_result"
    }
   ],
   "source": [
    "numbers"
   ]
  },
  {
   "cell_type": "code",
   "execution_count": 47,
   "id": "9768a04c-8046-466b-9356-967b42543b16",
   "metadata": {},
   "outputs": [
    {
     "data": {
      "text/plain": [
       "14"
      ]
     },
     "execution_count": 47,
     "metadata": {},
     "output_type": "execute_result"
    }
   ],
   "source": [
    "numbers.index(5, 7)"
   ]
  },
  {
   "cell_type": "code",
   "execution_count": 49,
   "id": "16069a1d-0363-43e2-a305-f3536175fa0c",
   "metadata": {},
   "outputs": [
    {
     "data": {
      "text/plain": [
       "1"
      ]
     },
     "execution_count": 49,
     "metadata": {},
     "output_type": "execute_result"
    }
   ],
   "source": [
    "numbers.index(7, 0, 4)"
   ]
  },
  {
   "cell_type": "code",
   "execution_count": 50,
   "id": "230f9b05-856b-4875-bfdd-c78d9e3d1ebe",
   "metadata": {},
   "outputs": [
    {
     "data": {
      "text/plain": [
       "False"
      ]
     },
     "execution_count": 50,
     "metadata": {},
     "output_type": "execute_result"
    }
   ],
   "source": [
    "1000 in numbers"
   ]
  },
  {
   "cell_type": "code",
   "execution_count": 51,
   "id": "ef9e7df8-c7e5-4fa4-87df-485f46b77630",
   "metadata": {},
   "outputs": [
    {
     "data": {
      "text/plain": [
       "True"
      ]
     },
     "execution_count": 51,
     "metadata": {},
     "output_type": "execute_result"
    }
   ],
   "source": [
    "5 in numbers"
   ]
  },
  {
   "cell_type": "code",
   "execution_count": 52,
   "id": "8ea3b856-1d33-4d0c-b937-b070018372f6",
   "metadata": {},
   "outputs": [
    {
     "data": {
      "text/plain": [
       "True"
      ]
     },
     "execution_count": 52,
     "metadata": {},
     "output_type": "execute_result"
    }
   ],
   "source": [
    "1000 not in numbers"
   ]
  },
  {
   "cell_type": "code",
   "execution_count": 53,
   "id": "c5d5e474-5c64-44bf-9038-527d4549baef",
   "metadata": {},
   "outputs": [
    {
     "data": {
      "text/plain": [
       "False"
      ]
     },
     "execution_count": 53,
     "metadata": {},
     "output_type": "execute_result"
    }
   ],
   "source": [
    "5 not in numbers"
   ]
  },
  {
   "cell_type": "code",
   "execution_count": 54,
   "id": "3a3f4032-bc87-4316-80a1-84e9bf690a68",
   "metadata": {},
   "outputs": [],
   "source": [
    "key = 1000"
   ]
  },
  {
   "cell_type": "code",
   "execution_count": 55,
   "id": "a2008139-1f3c-4519-900f-8fda6df0b2d9",
   "metadata": {},
   "outputs": [
    {
     "name": "stdout",
     "output_type": "stream",
     "text": [
      "1000 not found\n"
     ]
    }
   ],
   "source": [
    "if key in numbers:\n",
    "    print(f'found {key} at index {numbers.index(search_key)}')\n",
    "else:\n",
    "    print(f'{key} not found')"
   ]
  },
  {
   "cell_type": "code",
   "execution_count": 56,
   "id": "ba1b81c0-3978-4699-bc72-fe2ce242c113",
   "metadata": {},
   "outputs": [],
   "source": [
    "# Self Check 5.9 3"
   ]
  },
  {
   "cell_type": "code",
   "execution_count": 57,
   "id": "d85636b0-8ac0-4858-bbb4-22ec6b5f2106",
   "metadata": {},
   "outputs": [],
   "source": [
    "numbers = [67, 12, 46, 43, 13]"
   ]
  },
  {
   "cell_type": "code",
   "execution_count": 58,
   "id": "ae685b2f-6f36-48b4-aaa8-b38f1725e48b",
   "metadata": {},
   "outputs": [
    {
     "data": {
      "text/plain": [
       "3"
      ]
     },
     "execution_count": 58,
     "metadata": {},
     "output_type": "execute_result"
    }
   ],
   "source": [
    "numbers.index(43)"
   ]
  },
  {
   "cell_type": "code",
   "execution_count": 60,
   "id": "6d3e88ab-5571-44aa-ad4b-4db1b1550ee0",
   "metadata": {},
   "outputs": [
    {
     "name": "stdout",
     "output_type": "stream",
     "text": [
      "44 not found\n"
     ]
    }
   ],
   "source": [
    "if 44 in numbers:\n",
    "    print(f'Found 44 at index: {numbers.index(44)}')\n",
    "else:\n",
    "    print(f'44 not found')"
   ]
  },
  {
   "cell_type": "code",
   "execution_count": 65,
   "id": "440dcd54-b461-4ab8-bef2-12480d9d81a3",
   "metadata": {},
   "outputs": [],
   "source": [
    "color_names = ['orange', 'yellow', 'green']"
   ]
  },
  {
   "cell_type": "code",
   "execution_count": 66,
   "id": "817fd454-4f4f-4344-be88-87e32c6b9c05",
   "metadata": {},
   "outputs": [],
   "source": [
    "color_names.insert(0, 'red')"
   ]
  },
  {
   "cell_type": "code",
   "execution_count": 67,
   "id": "525ba1ae-7bf8-44cf-9f17-f4a8cf8cf169",
   "metadata": {},
   "outputs": [
    {
     "data": {
      "text/plain": [
       "['red', 'orange', 'yellow', 'green']"
      ]
     },
     "execution_count": 67,
     "metadata": {},
     "output_type": "execute_result"
    }
   ],
   "source": [
    "color_names"
   ]
  },
  {
   "cell_type": "code",
   "execution_count": 68,
   "id": "efe8b45b-9b73-46bc-8ce4-d040062ed05c",
   "metadata": {},
   "outputs": [],
   "source": [
    "color_names.append('blue')"
   ]
  },
  {
   "cell_type": "code",
   "execution_count": 69,
   "id": "96c81a89-ab15-4d15-b118-fcc7879f746c",
   "metadata": {},
   "outputs": [
    {
     "data": {
      "text/plain": [
       "['red', 'orange', 'yellow', 'green', 'blue']"
      ]
     },
     "execution_count": 69,
     "metadata": {},
     "output_type": "execute_result"
    }
   ],
   "source": [
    "color_names"
   ]
  },
  {
   "cell_type": "code",
   "execution_count": 70,
   "id": "3f9abf73-8e4d-4e63-b516-9a3538ce69f5",
   "metadata": {},
   "outputs": [],
   "source": [
    "color_names.extend(['indigo', 'violet'])"
   ]
  },
  {
   "cell_type": "code",
   "execution_count": 71,
   "id": "7239afaf-eb17-4501-a718-14c31e0b704f",
   "metadata": {},
   "outputs": [
    {
     "data": {
      "text/plain": [
       "['red', 'orange', 'yellow', 'green', 'blue', 'indigo', 'violet']"
      ]
     },
     "execution_count": 71,
     "metadata": {},
     "output_type": "execute_result"
    }
   ],
   "source": [
    "color_names"
   ]
  },
  {
   "cell_type": "code",
   "execution_count": 72,
   "id": "2984d343-f676-4263-bcb2-5e4d6da26676",
   "metadata": {},
   "outputs": [],
   "source": [
    "sample_list = []"
   ]
  },
  {
   "cell_type": "code",
   "execution_count": 73,
   "id": "13def18e-303e-4126-a03e-840395c2ea2a",
   "metadata": {},
   "outputs": [],
   "source": [
    "s = 'abc'"
   ]
  },
  {
   "cell_type": "code",
   "execution_count": 74,
   "id": "a5fb50c6-01c4-4b53-9730-494172b34dcc",
   "metadata": {},
   "outputs": [],
   "source": [
    "sample_list.extend(s)"
   ]
  },
  {
   "cell_type": "code",
   "execution_count": 75,
   "id": "af949127-cb49-490d-9a35-b84a8c9191f4",
   "metadata": {},
   "outputs": [
    {
     "data": {
      "text/plain": [
       "['a', 'b', 'c']"
      ]
     },
     "execution_count": 75,
     "metadata": {},
     "output_type": "execute_result"
    }
   ],
   "source": [
    "sample_list"
   ]
  },
  {
   "cell_type": "code",
   "execution_count": 76,
   "id": "b0f15376-c99c-49e9-84f5-c07b23630b68",
   "metadata": {},
   "outputs": [],
   "source": [
    "t = (1, 2, 3)"
   ]
  },
  {
   "cell_type": "code",
   "execution_count": 77,
   "id": "18e03971-514e-4443-bfc5-34538345a28a",
   "metadata": {},
   "outputs": [],
   "source": [
    "sample_list.extend(t)"
   ]
  },
  {
   "cell_type": "code",
   "execution_count": 78,
   "id": "d312aab6-0d65-4df0-9110-a30f93c7b1c3",
   "metadata": {},
   "outputs": [
    {
     "data": {
      "text/plain": [
       "['a', 'b', 'c', 1, 2, 3]"
      ]
     },
     "execution_count": 78,
     "metadata": {},
     "output_type": "execute_result"
    }
   ],
   "source": [
    "sample_list"
   ]
  },
  {
   "cell_type": "code",
   "execution_count": 79,
   "id": "bcc4979c-62fd-4c13-8069-934ed6fd0f39",
   "metadata": {},
   "outputs": [],
   "source": [
    "sample_list.extend((4, 5, 6))"
   ]
  },
  {
   "cell_type": "code",
   "execution_count": 80,
   "id": "0424fd1e-6503-4c7a-a59c-8d1596bc8d85",
   "metadata": {},
   "outputs": [
    {
     "data": {
      "text/plain": [
       "['a', 'b', 'c', 1, 2, 3, 4, 5, 6]"
      ]
     },
     "execution_count": 80,
     "metadata": {},
     "output_type": "execute_result"
    }
   ],
   "source": [
    "sample_list"
   ]
  },
  {
   "cell_type": "code",
   "execution_count": 81,
   "id": "dfd78ad9-67a5-45c3-9948-482e256a47cb",
   "metadata": {},
   "outputs": [],
   "source": [
    "color_names.remove('green')"
   ]
  },
  {
   "cell_type": "code",
   "execution_count": 82,
   "id": "1e4ade0b-ba5b-4b98-9c5c-c4c7b1adddc2",
   "metadata": {},
   "outputs": [
    {
     "data": {
      "text/plain": [
       "['red', 'orange', 'yellow', 'blue', 'indigo', 'violet']"
      ]
     },
     "execution_count": 82,
     "metadata": {},
     "output_type": "execute_result"
    }
   ],
   "source": [
    "color_names"
   ]
  },
  {
   "cell_type": "code",
   "execution_count": 83,
   "id": "f2c413c5-0e22-4b55-9aec-496fa2ab9122",
   "metadata": {},
   "outputs": [],
   "source": [
    "color_names.clear()"
   ]
  },
  {
   "cell_type": "code",
   "execution_count": 84,
   "id": "9fdbaeae-eb40-42a9-8598-2a3461d02605",
   "metadata": {},
   "outputs": [
    {
     "data": {
      "text/plain": [
       "[]"
      ]
     },
     "execution_count": 84,
     "metadata": {},
     "output_type": "execute_result"
    }
   ],
   "source": [
    "color_names"
   ]
  },
  {
   "cell_type": "code",
   "execution_count": 88,
   "id": "33d7512a-a61e-4a65-bcfe-ba426d498ce2",
   "metadata": {},
   "outputs": [],
   "source": [
    "responses = [1, 2, 5, 4, 3, 5, 2, 1, 3, 3, 1, 4, 3, 3, 3, 2, 3, 3, 2, 2]"
   ]
  },
  {
   "cell_type": "code",
   "execution_count": 89,
   "id": "0520b84d-ed7b-4357-851d-646fe422eff2",
   "metadata": {},
   "outputs": [
    {
     "name": "stdout",
     "output_type": "stream",
     "text": [
      "1 appears 3 times in responses\n",
      "2 appears 5 times in responses\n",
      "3 appears 8 times in responses\n",
      "4 appears 2 times in responses\n",
      "5 appears 2 times in responses\n"
     ]
    }
   ],
   "source": [
    "for i in range(1, 6):\n",
    "    print(f'{i} appears {responses.count(i)} times in responses')"
   ]
  },
  {
   "cell_type": "code",
   "execution_count": 90,
   "id": "ac393126-4ed6-40a5-bcb7-5887b20a21e9",
   "metadata": {},
   "outputs": [],
   "source": [
    "color_names = ['red', 'orange', 'yellow', 'green', 'blue']"
   ]
  },
  {
   "cell_type": "code",
   "execution_count": 91,
   "id": "734a9af5-b23e-4b4f-b934-159e04b63ff7",
   "metadata": {},
   "outputs": [],
   "source": [
    "color_names.reverse()"
   ]
  },
  {
   "cell_type": "code",
   "execution_count": 92,
   "id": "0e8feef6-0d61-4f01-9461-59234650c6a0",
   "metadata": {},
   "outputs": [
    {
     "data": {
      "text/plain": [
       "['blue', 'green', 'yellow', 'orange', 'red']"
      ]
     },
     "execution_count": 92,
     "metadata": {},
     "output_type": "execute_result"
    }
   ],
   "source": [
    "color_names"
   ]
  },
  {
   "cell_type": "code",
   "execution_count": 93,
   "id": "ec6ba66c-ced2-40b1-b466-543e79c02afa",
   "metadata": {},
   "outputs": [],
   "source": [
    "copied_list = color_names.copy()"
   ]
  },
  {
   "cell_type": "code",
   "execution_count": 95,
   "id": "a3a7b147-a32d-4f99-bdc2-77553f377745",
   "metadata": {},
   "outputs": [
    {
     "data": {
      "text/plain": [
       "['blue', 'green', 'yellow', 'orange', 'red']"
      ]
     },
     "execution_count": 95,
     "metadata": {},
     "output_type": "execute_result"
    }
   ],
   "source": [
    "copied_list"
   ]
  },
  {
   "cell_type": "code",
   "execution_count": 98,
   "id": "a0726b18-cba0-4361-83b5-35bf4435cfa0",
   "metadata": {},
   "outputs": [],
   "source": [
    "rainbow = ['green', 'orange', 'violet']"
   ]
  },
  {
   "cell_type": "code",
   "execution_count": 99,
   "id": "f894db1a-e974-4738-8492-abba52656137",
   "metadata": {},
   "outputs": [],
   "source": [
    "rainbow.insert(rainbow.index('violet'), 'red')"
   ]
  },
  {
   "cell_type": "code",
   "execution_count": 100,
   "id": "fffb012b-d8ed-4d76-acd2-f24322314372",
   "metadata": {},
   "outputs": [
    {
     "data": {
      "text/plain": [
       "['green', 'orange', 'red', 'violet']"
      ]
     },
     "execution_count": 100,
     "metadata": {},
     "output_type": "execute_result"
    }
   ],
   "source": [
    "rainbow"
   ]
  },
  {
   "cell_type": "code",
   "execution_count": 101,
   "id": "404a75e3-baa3-40e7-8237-ee7f6f7ca0f3",
   "metadata": {},
   "outputs": [],
   "source": [
    "rainbow.append('yellow')"
   ]
  },
  {
   "cell_type": "code",
   "execution_count": 102,
   "id": "64278a79-e087-4df2-9df3-4701e50174f2",
   "metadata": {},
   "outputs": [
    {
     "data": {
      "text/plain": [
       "['green', 'orange', 'red', 'violet', 'yellow']"
      ]
     },
     "execution_count": 102,
     "metadata": {},
     "output_type": "execute_result"
    }
   ],
   "source": [
    "rainbow"
   ]
  },
  {
   "cell_type": "code",
   "execution_count": 103,
   "id": "c77b87d5-f156-4b81-b9a7-e08bb626436b",
   "metadata": {},
   "outputs": [],
   "source": [
    "rainbow.reverse()"
   ]
  },
  {
   "cell_type": "code",
   "execution_count": 104,
   "id": "f15c6e50-a3b2-40c4-80e6-bbc1c0002a4b",
   "metadata": {},
   "outputs": [
    {
     "data": {
      "text/plain": [
       "['yellow', 'violet', 'red', 'orange', 'green']"
      ]
     },
     "execution_count": 104,
     "metadata": {},
     "output_type": "execute_result"
    }
   ],
   "source": [
    "rainbow"
   ]
  },
  {
   "cell_type": "code",
   "execution_count": 105,
   "id": "71b1b7fb-585b-402e-bb08-ce9895305915",
   "metadata": {},
   "outputs": [],
   "source": [
    "rainbow.remove('orange')"
   ]
  },
  {
   "cell_type": "code",
   "execution_count": 106,
   "id": "588ebce5-67d7-4c7c-8b95-29c1fa049a5c",
   "metadata": {},
   "outputs": [
    {
     "data": {
      "text/plain": [
       "['yellow', 'violet', 'red', 'green']"
      ]
     },
     "execution_count": 106,
     "metadata": {},
     "output_type": "execute_result"
    }
   ],
   "source": [
    "rainbow"
   ]
  },
  {
   "cell_type": "code",
   "execution_count": 107,
   "id": "2f96fab5-1bd2-4c06-a16a-924ac806b795",
   "metadata": {},
   "outputs": [],
   "source": [
    "stack = []"
   ]
  },
  {
   "cell_type": "code",
   "execution_count": 108,
   "id": "cd19a19e-5eb1-4ded-a6dc-ea90b6f05c56",
   "metadata": {},
   "outputs": [],
   "source": [
    "stack.append('red')"
   ]
  },
  {
   "cell_type": "code",
   "execution_count": 112,
   "id": "4dac0f4f-4ab4-4caa-97b9-081e6edd1b8d",
   "metadata": {},
   "outputs": [
    {
     "data": {
      "text/plain": [
       "['red', 'green']"
      ]
     },
     "execution_count": 112,
     "metadata": {},
     "output_type": "execute_result"
    }
   ],
   "source": [
    "stack"
   ]
  },
  {
   "cell_type": "code",
   "execution_count": 110,
   "id": "13d9f506-048b-4d5d-9b42-d9ee8eca0449",
   "metadata": {},
   "outputs": [],
   "source": [
    "stack.append('green')"
   ]
  },
  {
   "cell_type": "code",
   "execution_count": 111,
   "id": "8a8d1aec-5986-4f02-bd64-f8099ac84360",
   "metadata": {},
   "outputs": [
    {
     "data": {
      "text/plain": [
       "['red', 'green']"
      ]
     },
     "execution_count": 111,
     "metadata": {},
     "output_type": "execute_result"
    }
   ],
   "source": [
    "stack"
   ]
  },
  {
   "cell_type": "code",
   "execution_count": 114,
   "id": "c151d503-3d75-4213-91b8-d94f7bfce5ae",
   "metadata": {},
   "outputs": [
    {
     "data": {
      "text/plain": [
       "'green'"
      ]
     },
     "execution_count": 114,
     "metadata": {},
     "output_type": "execute_result"
    }
   ],
   "source": [
    "stack.pop()"
   ]
  },
  {
   "cell_type": "code",
   "execution_count": 115,
   "id": "72369caa-015d-432f-b9d8-0736dbcd840f",
   "metadata": {},
   "outputs": [
    {
     "data": {
      "text/plain": [
       "['red']"
      ]
     },
     "execution_count": 115,
     "metadata": {},
     "output_type": "execute_result"
    }
   ],
   "source": [
    "stack"
   ]
  },
  {
   "cell_type": "code",
   "execution_count": 116,
   "id": "12160085-5110-4d39-8f7d-4c0cdddc8384",
   "metadata": {},
   "outputs": [
    {
     "data": {
      "text/plain": [
       "'red'"
      ]
     },
     "execution_count": 116,
     "metadata": {},
     "output_type": "execute_result"
    }
   ],
   "source": [
    "stack.pop()"
   ]
  },
  {
   "cell_type": "code",
   "execution_count": 117,
   "id": "b8deebb3-877a-482b-bc2b-fdf235abe967",
   "metadata": {},
   "outputs": [
    {
     "data": {
      "text/plain": [
       "[]"
      ]
     },
     "execution_count": 117,
     "metadata": {},
     "output_type": "execute_result"
    }
   ],
   "source": [
    "stack"
   ]
  },
  {
   "cell_type": "code",
   "execution_count": 118,
   "id": "f9334c1b-3bfd-40bf-8c69-42d3a3e99373",
   "metadata": {},
   "outputs": [
    {
     "ename": "IndexError",
     "evalue": "pop from empty list",
     "output_type": "error",
     "traceback": [
      "\u001b[1;31m---------------------------------------------------------------------------\u001b[0m",
      "\u001b[1;31mIndexError\u001b[0m                                Traceback (most recent call last)",
      "Input \u001b[1;32mIn [118]\u001b[0m, in \u001b[0;36m<module>\u001b[1;34m\u001b[0m\n\u001b[1;32m----> 1\u001b[0m \u001b[43mstack\u001b[49m\u001b[38;5;241;43m.\u001b[39;49m\u001b[43mpop\u001b[49m\u001b[43m(\u001b[49m\u001b[43m)\u001b[49m\n",
      "\u001b[1;31mIndexError\u001b[0m: pop from empty list"
     ]
    }
   ],
   "source": [
    "stack.pop()"
   ]
  },
  {
   "cell_type": "code",
   "execution_count": 119,
   "id": "a9dc6d25-8322-452e-a4c5-bb22526b0b58",
   "metadata": {},
   "outputs": [],
   "source": [
    "list1 = []"
   ]
  },
  {
   "cell_type": "code",
   "execution_count": 120,
   "id": "64a1fa68-a6da-410d-b167-b92597d02f85",
   "metadata": {},
   "outputs": [],
   "source": [
    "for item in range(1, 6):\n",
    "    list1.append(item)"
   ]
  },
  {
   "cell_type": "code",
   "execution_count": 121,
   "id": "2c55376c-f413-4754-a312-bfae87dd7d28",
   "metadata": {},
   "outputs": [
    {
     "data": {
      "text/plain": [
       "[1, 2, 3, 4, 5]"
      ]
     },
     "execution_count": 121,
     "metadata": {},
     "output_type": "execute_result"
    }
   ],
   "source": [
    "list1"
   ]
  },
  {
   "cell_type": "code",
   "execution_count": 122,
   "id": "28849eda-013f-4679-85fe-62becbda2a77",
   "metadata": {},
   "outputs": [],
   "source": [
    "list2 = [item for item in range(1, 6)]"
   ]
  },
  {
   "cell_type": "code",
   "execution_count": 123,
   "id": "b973d606-d2eb-4746-abad-d445307469df",
   "metadata": {},
   "outputs": [
    {
     "data": {
      "text/plain": [
       "[1, 2, 3, 4, 5]"
      ]
     },
     "execution_count": 123,
     "metadata": {},
     "output_type": "execute_result"
    }
   ],
   "source": [
    "list2"
   ]
  },
  {
   "cell_type": "code",
   "execution_count": 125,
   "id": "f6dde72e-0b37-49dc-93e4-096dc8350187",
   "metadata": {},
   "outputs": [],
   "source": [
    "list3 = [item ** 3 for item in range(1, 6)]"
   ]
  },
  {
   "cell_type": "code",
   "execution_count": 126,
   "id": "737f174f-3f77-4f3c-9cf3-6ced904c8431",
   "metadata": {},
   "outputs": [
    {
     "data": {
      "text/plain": [
       "[1, 8, 27, 64, 125]"
      ]
     },
     "execution_count": 126,
     "metadata": {},
     "output_type": "execute_result"
    }
   ],
   "source": [
    "list3"
   ]
  },
  {
   "cell_type": "code",
   "execution_count": 131,
   "id": "0619e2eb-eefe-425c-b2bf-2ae43a8b8d57",
   "metadata": {},
   "outputs": [],
   "source": [
    "list4 = [item for item in range(1, 11) if item % 2 ==0]"
   ]
  },
  {
   "cell_type": "code",
   "execution_count": 132,
   "id": "bfb7a1b4-62bb-4d5c-b8ca-2109fd59202d",
   "metadata": {},
   "outputs": [
    {
     "data": {
      "text/plain": [
       "[2, 4, 6, 8, 10]"
      ]
     },
     "execution_count": 132,
     "metadata": {},
     "output_type": "execute_result"
    }
   ],
   "source": [
    "list4"
   ]
  },
  {
   "cell_type": "code",
   "execution_count": 133,
   "id": "ade5e691-9b34-450a-b1c0-8529b1cf9c55",
   "metadata": {},
   "outputs": [],
   "source": [
    "colors = ['red', 'orange', 'yellow', 'green', 'blue']"
   ]
  },
  {
   "cell_type": "code",
   "execution_count": 134,
   "id": "6f1160d2-64ea-4794-a94e-9bb98e3bd84c",
   "metadata": {},
   "outputs": [],
   "source": [
    "colors2 = [item.upper() for item in colors]"
   ]
  },
  {
   "cell_type": "code",
   "execution_count": 135,
   "id": "51072077-c6ed-4c34-a0de-dac5f4c3802a",
   "metadata": {},
   "outputs": [
    {
     "data": {
      "text/plain": [
       "['RED', 'ORANGE', 'YELLOW', 'GREEN', 'BLUE']"
      ]
     },
     "execution_count": 135,
     "metadata": {},
     "output_type": "execute_result"
    }
   ],
   "source": [
    "colors2"
   ]
  },
  {
   "cell_type": "code",
   "execution_count": 136,
   "id": "dc2373dc-c4e9-482e-9a22-69707314ec6b",
   "metadata": {},
   "outputs": [
    {
     "data": {
      "text/plain": [
       "['red', 'orange', 'yellow', 'green', 'blue']"
      ]
     },
     "execution_count": 136,
     "metadata": {},
     "output_type": "execute_result"
    }
   ],
   "source": [
    "colors"
   ]
  },
  {
   "cell_type": "code",
   "execution_count": 137,
   "id": "3c625590-3492-4883-95ad-47cdbbbcb2e8",
   "metadata": {},
   "outputs": [],
   "source": [
    "# Self Check 5.12 3&4"
   ]
  },
  {
   "cell_type": "code",
   "execution_count": 139,
   "id": "afce3769-b8c6-4d2d-ae77-c844bf1cf275",
   "metadata": {},
   "outputs": [],
   "source": [
    "cubes = [(x, x ** 3) for x in range(1, 6)]"
   ]
  },
  {
   "cell_type": "code",
   "execution_count": 150,
   "id": "b5aa4f48-d5cd-4bda-ad4f-937665af4c15",
   "metadata": {},
   "outputs": [
    {
     "data": {
      "text/plain": [
       "[(1, 1), (2, 8), (3, 27), (4, 64), (5, 125)]"
      ]
     },
     "execution_count": 150,
     "metadata": {},
     "output_type": "execute_result"
    }
   ],
   "source": [
    "cubes"
   ]
  },
  {
   "cell_type": "code",
   "execution_count": 155,
   "id": "cfb8b6e0-ef74-43e5-9548-3639d247bff5",
   "metadata": {},
   "outputs": [],
   "source": [
    "multiples = [x for x in range(3, 30, 3)]"
   ]
  },
  {
   "cell_type": "code",
   "execution_count": 156,
   "id": "3c0e56c2-572e-4f06-b394-93b330c03ec9",
   "metadata": {},
   "outputs": [
    {
     "data": {
      "text/plain": [
       "[3, 6, 9, 12, 15, 18, 21, 24, 27]"
      ]
     },
     "execution_count": 156,
     "metadata": {},
     "output_type": "execute_result"
    }
   ],
   "source": [
    "multiples"
   ]
  },
  {
   "cell_type": "code",
   "execution_count": 157,
   "id": "fc586594-9b4c-49a5-a9ad-8cf29305d46c",
   "metadata": {},
   "outputs": [],
   "source": [
    "numbers = [10, 3, 7, 1, 9, 4, 2, 8, 5, 6]"
   ]
  },
  {
   "cell_type": "code",
   "execution_count": 160,
   "id": "067b5eff-b0aa-49e1-9d93-83704ffc9d6c",
   "metadata": {},
   "outputs": [
    {
     "name": "stdout",
     "output_type": "stream",
     "text": [
      "9 49 1 81 25 "
     ]
    }
   ],
   "source": [
    "for value in (x ** 2 for x in numbers if x % 2 != 0):\n",
    "    print(value, end=' ')"
   ]
  },
  {
   "cell_type": "code",
   "execution_count": 161,
   "id": "8f314c6c-a6d6-4b45-916e-4ce5e1a6421d",
   "metadata": {},
   "outputs": [],
   "source": [
    "squares_of_odds = (x ** 2 for x in numbers if x % 2 != 0)"
   ]
  },
  {
   "cell_type": "code",
   "execution_count": 162,
   "id": "d9d80bd4-6d52-45b5-9dc6-9414aa24295a",
   "metadata": {},
   "outputs": [
    {
     "data": {
      "text/plain": [
       "<generator object <genexpr> at 0x000001FC4BE80740>"
      ]
     },
     "execution_count": 162,
     "metadata": {},
     "output_type": "execute_result"
    }
   ],
   "source": [
    "squares_of_odds"
   ]
  },
  {
   "cell_type": "code",
   "execution_count": 163,
   "id": "8ed08bbd-6835-4416-9599-f0f6e24f64f7",
   "metadata": {},
   "outputs": [],
   "source": [
    "# Self Check 5.13 2"
   ]
  },
  {
   "cell_type": "code",
   "execution_count": 167,
   "id": "5472503d-c0a9-42c8-83e3-aaf4bcf576cb",
   "metadata": {},
   "outputs": [
    {
     "data": {
      "text/plain": [
       "[1000, 64, 8]"
      ]
     },
     "execution_count": 167,
     "metadata": {},
     "output_type": "execute_result"
    }
   ],
   "source": [
    "list(x ** 3 for x in [10, 3, 7, 1, 9, 4, 2] if x % 2 == 0)"
   ]
  },
  {
   "cell_type": "code",
   "execution_count": 168,
   "id": "fd2fb4aa-02f1-41b1-8809-313010cb07fd",
   "metadata": {},
   "outputs": [],
   "source": [
    "numbers = [10, 3, 7, 1, 9, 4, 2, 8, 5, 6]"
   ]
  },
  {
   "cell_type": "code",
   "execution_count": 170,
   "id": "cc8a6866-8ec0-4366-b754-a9aeebc7f554",
   "metadata": {},
   "outputs": [],
   "source": [
    "def is_odd(x):\n",
    "    \"\"\"Returns True only if x is odd.\"\"\"\n",
    "    return x % 2 != 0"
   ]
  },
  {
   "cell_type": "code",
   "execution_count": 173,
   "id": "9be280ac-be12-4960-8c7d-a9269b86a632",
   "metadata": {},
   "outputs": [
    {
     "data": {
      "text/plain": [
       "[3, 7, 1, 9, 5]"
      ]
     },
     "execution_count": 173,
     "metadata": {},
     "output_type": "execute_result"
    }
   ],
   "source": [
    "list(filter(is_odd, numbers))"
   ]
  },
  {
   "cell_type": "code",
   "execution_count": 175,
   "id": "33612703-e9b0-459e-a879-513a61fb5550",
   "metadata": {},
   "outputs": [
    {
     "data": {
      "text/plain": [
       "[3, 7, 1, 9, 5]"
      ]
     },
     "execution_count": 175,
     "metadata": {},
     "output_type": "execute_result"
    }
   ],
   "source": [
    "[item for item in numbers if is_odd(item)]"
   ]
  },
  {
   "cell_type": "code",
   "execution_count": 176,
   "id": "46c4198f-5776-490f-ad20-d4467c8a5cc3",
   "metadata": {},
   "outputs": [
    {
     "data": {
      "text/plain": [
       "[3, 7, 1, 9, 5]"
      ]
     },
     "execution_count": 176,
     "metadata": {},
     "output_type": "execute_result"
    }
   ],
   "source": [
    "list(filter(lambda x: x % 2 != 0, numbers))"
   ]
  },
  {
   "cell_type": "code",
   "execution_count": 177,
   "id": "8e7eb4d4-2334-4a78-85a3-2899b82616bb",
   "metadata": {},
   "outputs": [
    {
     "data": {
      "text/plain": [
       "[10, 3, 7, 1, 9, 4, 2, 8, 5, 6]"
      ]
     },
     "execution_count": 177,
     "metadata": {},
     "output_type": "execute_result"
    }
   ],
   "source": [
    "numbers"
   ]
  },
  {
   "cell_type": "code",
   "execution_count": 178,
   "id": "dc78472a-88cf-4225-9c8e-51ada270e074",
   "metadata": {},
   "outputs": [
    {
     "data": {
      "text/plain": [
       "[100, 9, 49, 1, 81, 16, 4, 64, 25, 36]"
      ]
     },
     "execution_count": 178,
     "metadata": {},
     "output_type": "execute_result"
    }
   ],
   "source": [
    "list(map(lambda x: x ** 2, numbers))"
   ]
  },
  {
   "cell_type": "code",
   "execution_count": 179,
   "id": "616d5823-3489-4f99-a5cb-5e212144f75d",
   "metadata": {},
   "outputs": [
    {
     "data": {
      "text/plain": [
       "[100, 9, 49, 1, 81, 16, 4, 64, 25, 36]"
      ]
     },
     "execution_count": 179,
     "metadata": {},
     "output_type": "execute_result"
    }
   ],
   "source": [
    "[item ** 2 for item in numbers]"
   ]
  },
  {
   "cell_type": "code",
   "execution_count": 180,
   "id": "dc94b7e2-2334-47e0-82be-7f0e971541d3",
   "metadata": {},
   "outputs": [
    {
     "data": {
      "text/plain": [
       "[9, 49, 1, 81, 25]"
      ]
     },
     "execution_count": 180,
     "metadata": {},
     "output_type": "execute_result"
    }
   ],
   "source": [
    "list(map(lambda x: x ** 2,\n",
    "         filter(lambda x: x % 2 != 0, numbers)))"
   ]
  },
  {
   "cell_type": "code",
   "execution_count": 181,
   "id": "1e760eca-cf6d-4eba-ab8e-e8140b851581",
   "metadata": {},
   "outputs": [
    {
     "data": {
      "text/plain": [
       "[9, 49, 1, 81, 25]"
      ]
     },
     "execution_count": 181,
     "metadata": {},
     "output_type": "execute_result"
    }
   ],
   "source": [
    "[x ** 2 for x in numbers if x % 2 != 0]"
   ]
  },
  {
   "cell_type": "code",
   "execution_count": 182,
   "id": "6039d5ec-cd83-4b7b-8a5f-3a9bf9f60c00",
   "metadata": {},
   "outputs": [],
   "source": [
    "# Self Check 5.14 3"
   ]
  },
  {
   "cell_type": "code",
   "execution_count": 184,
   "id": "0e83dd70-257e-4378-a96e-adb0a1ec06c4",
   "metadata": {},
   "outputs": [],
   "source": [
    "numbers = list(range(1, 16))"
   ]
  },
  {
   "cell_type": "code",
   "execution_count": 185,
   "id": "e4fcdb52-c645-4e28-bb61-44794e2813b1",
   "metadata": {},
   "outputs": [
    {
     "data": {
      "text/plain": [
       "[1, 2, 3, 4, 5, 6, 7, 8, 9, 10, 11, 12, 13, 14, 15]"
      ]
     },
     "execution_count": 185,
     "metadata": {},
     "output_type": "execute_result"
    }
   ],
   "source": [
    "numbers"
   ]
  },
  {
   "cell_type": "code",
   "execution_count": 186,
   "id": "ba5957ba-6aa9-4e39-88a6-e6a4002277c4",
   "metadata": {},
   "outputs": [
    {
     "data": {
      "text/plain": [
       "[2, 4, 6, 8, 10, 12, 14]"
      ]
     },
     "execution_count": 186,
     "metadata": {},
     "output_type": "execute_result"
    }
   ],
   "source": [
    "list(filter(lambda x: x % 2 == 0, numbers))"
   ]
  },
  {
   "cell_type": "code",
   "execution_count": 207,
   "id": "de6e928a-ab6b-4533-a860-f1fc60cad638",
   "metadata": {},
   "outputs": [
    {
     "data": {
      "text/plain": [
       "[100, 9, 49, 1, 81, 16, 4, 64, 25, 36]"
      ]
     },
     "execution_count": 207,
     "metadata": {},
     "output_type": "execute_result"
    }
   ],
   "source": [
    "list(map(lambda x: x ** 2, numbers))"
   ]
  },
  {
   "cell_type": "code",
   "execution_count": 208,
   "id": "95f7e052-2088-4cc0-bf6d-9bec210eadc7",
   "metadata": {},
   "outputs": [
    {
     "data": {
      "text/plain": [
       "[100, 16, 4, 64, 36]"
      ]
     },
     "execution_count": 208,
     "metadata": {},
     "output_type": "execute_result"
    }
   ],
   "source": [
    "list(map(lambda x: x ** 2, filter(lambda x: x % 2 == 0, numbers)))"
   ]
  },
  {
   "cell_type": "code",
   "execution_count": 209,
   "id": "6a53aa36-6807-4009-be2f-fd272abc1035",
   "metadata": {},
   "outputs": [],
   "source": [
    "# Self Check 5. 14 4"
   ]
  },
  {
   "cell_type": "code",
   "execution_count": 210,
   "id": "d5aec05f-e8ba-4a3a-a8b3-00e762ac93e2",
   "metadata": {},
   "outputs": [],
   "source": [
    "fahrenheit = [41, 32, 212]"
   ]
  },
  {
   "cell_type": "code",
   "execution_count": 211,
   "id": "fe94ac47-a7de-48a6-8ebc-b3affc8eccf5",
   "metadata": {},
   "outputs": [
    {
     "data": {
      "text/plain": [
       "[(41, 5.0), (32, 0.0), (212, 100.0)]"
      ]
     },
     "execution_count": 211,
     "metadata": {},
     "output_type": "execute_result"
    }
   ],
   "source": [
    "list(map(lambda x: (x, (x - 32) * 5 / 9), fahrenheit))"
   ]
  },
  {
   "cell_type": "code",
   "execution_count": 212,
   "id": "17cedec0-aa06-49c8-88ae-3a818bdbefab",
   "metadata": {},
   "outputs": [
    {
     "data": {
      "text/plain": [
       "True"
      ]
     },
     "execution_count": 212,
     "metadata": {},
     "output_type": "execute_result"
    }
   ],
   "source": [
    "'Red' < 'orange'"
   ]
  },
  {
   "cell_type": "code",
   "execution_count": 213,
   "id": "c91380d8-3bc4-4519-a554-59e72de61f3d",
   "metadata": {},
   "outputs": [
    {
     "data": {
      "text/plain": [
       "82"
      ]
     },
     "execution_count": 213,
     "metadata": {},
     "output_type": "execute_result"
    }
   ],
   "source": [
    "ord('R')"
   ]
  },
  {
   "cell_type": "code",
   "execution_count": 214,
   "id": "df93e4b9-0832-4bb5-81c5-76dfb64b050d",
   "metadata": {},
   "outputs": [
    {
     "data": {
      "text/plain": [
       "111"
      ]
     },
     "execution_count": 214,
     "metadata": {},
     "output_type": "execute_result"
    }
   ],
   "source": [
    "ord('o')"
   ]
  },
  {
   "cell_type": "code",
   "execution_count": 215,
   "id": "02004161-2c87-417c-aa6d-37cc7de8767a",
   "metadata": {},
   "outputs": [],
   "source": [
    "colors = ['Red', 'orange', 'Yellow', 'green', 'Blue']"
   ]
  },
  {
   "cell_type": "code",
   "execution_count": 216,
   "id": "2bfa2578-cbcd-45a3-8fe5-964daa2e637d",
   "metadata": {},
   "outputs": [
    {
     "data": {
      "text/plain": [
       "'Blue'"
      ]
     },
     "execution_count": 216,
     "metadata": {},
     "output_type": "execute_result"
    }
   ],
   "source": [
    "min(colors, key=lambda s: s.lower())"
   ]
  },
  {
   "cell_type": "code",
   "execution_count": 217,
   "id": "80187111-3e0b-4984-8942-805e27fcceb2",
   "metadata": {},
   "outputs": [
    {
     "data": {
      "text/plain": [
       "'Yellow'"
      ]
     },
     "execution_count": 217,
     "metadata": {},
     "output_type": "execute_result"
    }
   ],
   "source": [
    "max(colors, key=lambda s: s.lower())"
   ]
  },
  {
   "cell_type": "code",
   "execution_count": 218,
   "id": "e3601b59-f09d-43b0-a7e2-4f532377eaeb",
   "metadata": {},
   "outputs": [],
   "source": [
    "numbers = [10, 3, 7, 1, 9, 4, 2, 8, 5, 6]"
   ]
  },
  {
   "cell_type": "code",
   "execution_count": 219,
   "id": "a839a428-ab0d-41ff-83a6-b6b9a42028b8",
   "metadata": {},
   "outputs": [],
   "source": [
    "reversed_numbers = [item for item in reversed(numbers)]"
   ]
  },
  {
   "cell_type": "code",
   "execution_count": 220,
   "id": "5532c54c-6ada-4ec3-b498-c2a901c52650",
   "metadata": {},
   "outputs": [
    {
     "data": {
      "text/plain": [
       "[6, 5, 8, 2, 4, 9, 1, 7, 3, 10]"
      ]
     },
     "execution_count": 220,
     "metadata": {},
     "output_type": "execute_result"
    }
   ],
   "source": [
    "reversed_numbers"
   ]
  },
  {
   "cell_type": "code",
   "execution_count": 221,
   "id": "ebf4447f-960c-4d9d-90ca-16a5c6bb8ebf",
   "metadata": {},
   "outputs": [],
   "source": [
    "names = ['Bob', 'Sue', 'Amanda']"
   ]
  },
  {
   "cell_type": "code",
   "execution_count": 227,
   "id": "339f5eb8-57b7-4d5d-badb-ed03e405648f",
   "metadata": {},
   "outputs": [],
   "source": [
    "grade_point_averages = [3.5, 4.0, 3.75]"
   ]
  },
  {
   "cell_type": "code",
   "execution_count": 229,
   "id": "3f5c3714-a660-4722-b189-3a134bddfd09",
   "metadata": {},
   "outputs": [
    {
     "name": "stdout",
     "output_type": "stream",
     "text": [
      "Names=Bob; GPA=3.5\n",
      "Names=Sue; GPA=4.0\n",
      "Names=Amanda; GPA=3.75\n"
     ]
    }
   ],
   "source": [
    "for name, gpa in zip(names, grade_point_averages):\n",
    "    print(f'Names={name}; GPA={gpa}')"
   ]
  },
  {
   "cell_type": "code",
   "execution_count": 230,
   "id": "d5b77a35-9662-428a-a01f-1139b162f1e2",
   "metadata": {},
   "outputs": [],
   "source": [
    "# Self Check 5.15 3"
   ]
  },
  {
   "cell_type": "code",
   "execution_count": 231,
   "id": "9840ac39-0560-4590-ae4c-cac1fd0a309b",
   "metadata": {},
   "outputs": [],
   "source": [
    "foods = ['Cookies', 'pizza', 'Grapes', 'apples', 'steak', 'Bacon']"
   ]
  },
  {
   "cell_type": "code",
   "execution_count": 232,
   "id": "86cdd09a-f7ab-4faf-bd74-2bc23fd80302",
   "metadata": {},
   "outputs": [
    {
     "data": {
      "text/plain": [
       "'Bacon'"
      ]
     },
     "execution_count": 232,
     "metadata": {},
     "output_type": "execute_result"
    }
   ],
   "source": [
    "min(foods)"
   ]
  },
  {
   "cell_type": "code",
   "execution_count": 233,
   "id": "b5489c7d-6d04-434e-8795-017ef8cb510c",
   "metadata": {},
   "outputs": [
    {
     "data": {
      "text/plain": [
       "'apples'"
      ]
     },
     "execution_count": 233,
     "metadata": {},
     "output_type": "execute_result"
    }
   ],
   "source": [
    "min(foods, key = lambda s: s.lower())"
   ]
  },
  {
   "cell_type": "code",
   "execution_count": 236,
   "id": "c244cff9-16d5-402c-ad35-12a82aa9f9cf",
   "metadata": {},
   "outputs": [],
   "source": [
    "# Self Check 5.15 4"
   ]
  },
  {
   "cell_type": "code",
   "execution_count": 242,
   "id": "5b9b2611-f375-4171-a6f1-d2e87a71e68a",
   "metadata": {},
   "outputs": [
    {
     "data": {
      "text/plain": [
       "[11, 22, 33]"
      ]
     },
     "execution_count": 242,
     "metadata": {},
     "output_type": "execute_result"
    }
   ],
   "source": [
    "[(a + b) for a, b in zip([10, 20, 30], [1, 2, 3])]"
   ]
  },
  {
   "cell_type": "code",
   "execution_count": 243,
   "id": "84eeea65-27da-478f-bd21-7b468eab43df",
   "metadata": {},
   "outputs": [],
   "source": [
    "a = [[77, 68, 86, 73], [96, 87, 89, 891], [70, 90, 86, 81]]"
   ]
  },
  {
   "cell_type": "code",
   "execution_count": 245,
   "id": "1ec8d4ea-8a6d-4454-a52f-3578a6fd1d9c",
   "metadata": {},
   "outputs": [
    {
     "data": {
      "text/plain": [
       "[[77, 68, 86, 73], [96, 87, 89, 891], [70, 90, 86, 81]]"
      ]
     },
     "execution_count": 245,
     "metadata": {},
     "output_type": "execute_result"
    }
   ],
   "source": [
    "a"
   ]
  },
  {
   "cell_type": "code",
   "execution_count": 254,
   "id": "d3a88aa4-a67a-46e1-ae89-97461603d023",
   "metadata": {},
   "outputs": [],
   "source": [
    "a = [[77, 68, 86, 73],\n",
    "     [96, 87, 89, 82],\n",
    "     [70, 90, 86, 81]]"
   ]
  },
  {
   "cell_type": "code",
   "execution_count": 255,
   "id": "e2d875d8-0c6c-4d4b-8a7b-18dea4d95995",
   "metadata": {},
   "outputs": [
    {
     "data": {
      "text/plain": [
       "[[77, 68, 86, 73], [96, 87, 89, 82], [70, 90, 86, 81]]"
      ]
     },
     "execution_count": 255,
     "metadata": {},
     "output_type": "execute_result"
    }
   ],
   "source": [
    "a"
   ]
  },
  {
   "cell_type": "code",
   "execution_count": 277,
   "id": "c8aee463-9c04-4705-a31a-22dc5da29195",
   "metadata": {},
   "outputs": [
    {
     "name": "stdout",
     "output_type": "stream",
     "text": [
      "77 68 86 73 \n",
      "96 87 89 82 \n",
      "70 90 86 81 \n"
     ]
    }
   ],
   "source": [
    "for row in a:\n",
    "    for item in row:\n",
    "        print(item, end=' ')\n",
    "    print()"
   ]
  },
  {
   "cell_type": "code",
   "execution_count": 278,
   "id": "14f5230f-1b46-45c2-8141-208899b91127",
   "metadata": {},
   "outputs": [
    {
     "name": "stdout",
     "output_type": "stream",
     "text": [
      "a[0][0]=77  a[0][1]=68  a[0][2]=86  a[0][3]=73  \n",
      "a[1][0]=96  a[1][1]=87  a[1][2]=89  a[1][3]=82  \n",
      "a[2][0]=70  a[2][1]=90  a[2][2]=86  a[2][3]=81  \n"
     ]
    }
   ],
   "source": [
    "for i, row in enumerate(a):\n",
    "    for j, item in enumerate(row):\n",
    "        print(f'a[{i}][{j}]={item} ', end=' ')\n",
    "    print()"
   ]
  },
  {
   "cell_type": "code",
   "execution_count": 279,
   "id": "a014e157-273b-4ac2-95ed-17c965f683d1",
   "metadata": {},
   "outputs": [],
   "source": [
    "t = [[10, 7, 3], [20, 4, 17]]"
   ]
  },
  {
   "cell_type": "code",
   "execution_count": 280,
   "id": "4928dc3c-063a-42c3-9432-20946ef634c3",
   "metadata": {},
   "outputs": [],
   "source": [
    "total = 0"
   ]
  },
  {
   "cell_type": "code",
   "execution_count": 281,
   "id": "4d57fa2a-e939-4de5-a970-a49e29b6a4e5",
   "metadata": {},
   "outputs": [],
   "source": [
    "items = 0"
   ]
  },
  {
   "cell_type": "code",
   "execution_count": 282,
   "id": "30a6a6de-8a32-4043-bd92-403009c9d44e",
   "metadata": {},
   "outputs": [],
   "source": [
    "for row in t:\n",
    "    for item in row:\n",
    "        total += item\n",
    "        items += 1"
   ]
  },
  {
   "cell_type": "code",
   "execution_count": 283,
   "id": "7df283b9-0fe2-4dc3-9924-8c7af8ef8c4a",
   "metadata": {},
   "outputs": [
    {
     "data": {
      "text/plain": [
       "10.166666666666666"
      ]
     },
     "execution_count": 283,
     "metadata": {},
     "output_type": "execute_result"
    }
   ],
   "source": [
    "total / items"
   ]
  },
  {
   "cell_type": "code",
   "execution_count": 284,
   "id": "7351b277-01b6-4fed-8ef3-5e3dfd9e6e56",
   "metadata": {},
   "outputs": [],
   "source": [
    "for row in t:\n",
    "    total += sum(row)\n",
    "    items += len(row)"
   ]
  },
  {
   "cell_type": "code",
   "execution_count": 285,
   "id": "36447fa2-e403-482d-96b0-86e1b815b841",
   "metadata": {},
   "outputs": [
    {
     "data": {
      "text/plain": [
       "10.166666666666666"
      ]
     },
     "execution_count": 285,
     "metadata": {},
     "output_type": "execute_result"
    }
   ],
   "source": [
    "total / items"
   ]
  }
 ],
 "metadata": {
  "kernelspec": {
   "display_name": "Python 3 (ipykernel)",
   "language": "python",
   "name": "python3"
  },
  "language_info": {
   "codemirror_mode": {
    "name": "ipython",
    "version": 3
   },
   "file_extension": ".py",
   "mimetype": "text/x-python",
   "name": "python",
   "nbconvert_exporter": "python",
   "pygments_lexer": "ipython3",
   "version": "3.9.7"
  }
 },
 "nbformat": 4,
 "nbformat_minor": 5
}

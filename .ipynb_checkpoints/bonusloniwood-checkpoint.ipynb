{
 "cells": [
  {
   "cell_type": "code",
   "execution_count": 1,
   "id": "6cea21c2-caf7-448e-8d73-30fa06956616",
   "metadata": {},
   "outputs": [],
   "source": [
    "import string"
   ]
  },
  {
   "cell_type": "code",
   "execution_count": 2,
   "id": "b96ecc07-a963-49a5-900b-01c68f68aa81",
   "metadata": {},
   "outputs": [],
   "source": [
    "import collections"
   ]
  },
  {
   "cell_type": "code",
   "execution_count": 3,
   "id": "e56893d7-c5dc-4110-8be6-bbddf89ceb8c",
   "metadata": {},
   "outputs": [
    {
     "name": "stdout",
     "output_type": "stream",
     "text": [
      "['Jack', 'and', 'Jill', 'went', 'up', 'the', 'hill', 'To', 'fetch', 'a', 'pail', 'of', 'water', 'so', 'they', 'say', 'Their', 'subsequent', 'fall', 'was', 'inevitable', 'They', 'never', 'stood', 'a', 'chance', 'they', 'were', 'written', 'that', 'way', 'Innocent', 'victims', 'of', 'their', 'story', 'Like', 'Romeo', 'and', 'Juliet', 'Twas', 'written', 'in', 'the', 'stars', 'before', 'they', 'even', 'met', 'That', 'love', 'and', 'fate', 'and', 'a', 'touch', 'of', 'stupidity', 'Would', 'rob', 'them', 'of', 'their', 'hope', 'of', 'living', 'happily', 'The', 'endings', 'are', 'often', 'a', 'little', 'bit', 'gory', 'I', 'wonder', 'why', 'they', 'didnt', 'just', 'change', 'their', 'story', 'Were', 'told', 'we', 'have', 'to', 'do', 'what', 'were', 'told', 'but', 'surely', 'Sometimes', 'you', 'have', 'to', 'be', 'a', 'little', 'bit', 'naughty', 'Just', 'because', 'you', 'find', 'that', 'lifes', 'not', 'fair', 'it', 'Doesnt', 'mean', 'that', 'you', 'just', 'have', 'to', 'grin', 'and', 'bear', 'it', 'If', 'you', 'always', 'take', 'it', 'on', 'the', 'chin', 'and', 'wear', 'it', 'Nothing', 'will', 'change', 'Even', 'if', 'youre', 'little', 'you', 'can', 'do', 'a', 'lot', 'you', 'Mustnt', 'let', 'a', 'little', 'thing', 'like', 'little', 'stop', 'you', 'If', 'you', 'sit', 'around', 'and', 'let', 'them', 'get', 'on', 'top', 'You', 'might', 'as', 'well', 'be', 'saying', 'You', 'think', 'that', 'its', 'okay', 'And', 'thats', 'not', 'right', 'And', 'if', 'not', 'thats', 'not', 'right', 'You', 'to', 'put', 'it', 'right', 'Platinum', 'blonde', 'hair', 'dye', 'extra', 'strong', 'Keep', 'out', 'of', 'reach', 'of', 'children', 'hmm', 'Or', 'we', 'love', 'violet', 'hair', 'tonic', 'for', 'men', 'Yup', 'In', 'the', 'slip', 'of', 'a', 'bolt', 'theres', 'a', 'tiny', 'revolt', 'The', 'seeds', 'of', 'a', 'war', 'in', 'the', 'creak', 'of', 'a', 'floorboard', 'A', 'storm', 'can', 'begin', 'with', 'the', 'flap', 'of', 'a', 'wing', 'The', 'tiniest', 'mite', 'packs', 'the', 'mightiest', 'sting', 'Every', 'day', 'starts', 'with', 'the', 'tick', 'of', 'a', 'clock', 'All', 'escapes', 'start', 'with', 'the', 'click', 'of', 'a', 'lock', 'If', 'youre', 'stuck', 'in', 'your', 'story', 'and', 'want', 'to', 'get', 'out', 'You', 'dont', 'have', 'to', 'cry', 'you', 'dont', 'have', 'to', 'shout', 'Even', 'if', 'youre', 'little', 'you', 'can', 'do', 'a', 'lot', 'you', 'Mustnt', 'let', 'a', 'little', 'thing', 'like', 'little', 'stop', 'you', 'If', 'you', 'sit', 'around', 'and', 'let', 'them', 'get', 'on', 'top', 'you', 'wont', 'change', 'a', 'thing', 'Just', 'because', 'you', 'find', 'that', 'lifes', 'not', 'fair', 'it', 'Doesnt', 'mean', 'that', 'you', 'just', 'have', 'to', 'grin', 'and', 'bear', 'it', 'If', 'you', 'always', 'take', 'it', 'on', 'the', 'chin', 'and', 'wear', 'it', 'You', 'might', 'as', 'well', 'be', 'saying', 'You', 'think', 'that', 'its', 'okay', 'And', 'thats', 'not', 'right', 'And', 'if', 'its', 'not', 'right', 'You', 'have', 'to', 'put', 'it', 'right', 'But', 'nobody', 'else', 'is', 'gonna', 'put', 'it', 'right', 'for', 'me', 'Nobody', 'but', 'me', 'is', 'gonna', 'change', 'my', 'story', 'Sometimes', 'you', 'have', 'to', 'be', 'a', 'little', 'bit', 'naughty']\n"
     ]
    }
   ],
   "source": [
    "with open(\"matilda.txt\", \"r\") as f:\n",
    "    text = f.read()\n",
    "    words = text.split()\n",
    "    table = str.maketrans(\"\", \"\", string.punctuation)\n",
    "    stripped = [w.translate(table) for w in words]\n",
    "    print(stripped)"
   ]
  },
  {
   "cell_type": "markdown",
   "id": "980fb228-0808-4c1b-806f-e3582faf8933",
   "metadata": {},
   "source": [
    "word_counts = {}"
   ]
  },
  {
   "cell_type": "markdown",
   "id": "143fca99-3fca-48b1-b484-c37e9c3f546b",
   "metadata": {},
   "source": [
    "for word in stripped:\n",
    "    if word in word_counts:\n",
    "        word_counts[word] += 1\n",
    "    else:\n",
    "        word_counts[word] = 1"
   ]
  },
  {
   "cell_type": "markdown",
   "id": "07f33e90-c013-44bc-8eb9-d57a858d5f73",
   "metadata": {},
   "source": [
    "print(f'{\"WORD\":<15}COUNT')\n",
    "\n",
    "for word, count in sorted(word_counts.items()):\n",
    "    print(f'{word:<15}{count}')"
   ]
  },
  {
   "cell_type": "markdown",
   "id": "b4b033cc-83f1-47a6-bfa8-d7af333f1488",
   "metadata": {},
   "source": [
    "print('\\nNumber of unique words:', len(word_counts))"
   ]
  },
  {
   "cell_type": "code",
   "execution_count": 4,
   "id": "e1a46797-9db3-4eae-bfd9-0e38a67ada49",
   "metadata": {},
   "outputs": [
    {
     "name": "stdout",
     "output_type": "stream",
     "text": [
      "[('a', 18), ('you', 18), ('of', 13), ('and', 11), ('it', 11), ('the', 10), ('to', 10), ('little', 9), ('have', 8), ('that', 7)]\n"
     ]
    }
   ],
   "source": [
    "most_common = collections.Counter(stripped).most_common(10)\n",
    "print(most_common)"
   ]
  },
  {
   "cell_type": "code",
   "execution_count": null,
   "id": "09d6ba7d-0540-4690-87a4-dceaccc37e46",
   "metadata": {},
   "outputs": [],
   "source": []
  }
 ],
 "metadata": {
  "kernelspec": {
   "display_name": "Python 3 (ipykernel)",
   "language": "python",
   "name": "python3"
  },
  "language_info": {
   "codemirror_mode": {
    "name": "ipython",
    "version": 3
   },
   "file_extension": ".py",
   "mimetype": "text/x-python",
   "name": "python",
   "nbconvert_exporter": "python",
   "pygments_lexer": "ipython3",
   "version": "3.9.7"
  }
 },
 "nbformat": 4,
 "nbformat_minor": 5
}

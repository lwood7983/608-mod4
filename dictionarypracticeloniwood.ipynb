{
 "cells": [
  {
   "cell_type": "code",
   "execution_count": 2,
   "id": "1c02d593-6744-4ce9-ab56-8f6c75a8ce48",
   "metadata": {},
   "outputs": [],
   "source": [
    "country_codes = {'Finland': 'fi', 'South Africa': 'za',\n",
    "                 'Nepal': 'np'}"
   ]
  },
  {
   "cell_type": "code",
   "execution_count": 3,
   "id": "e35d4479-6685-45ce-ba3e-50dba5cb3dd8",
   "metadata": {},
   "outputs": [
    {
     "data": {
      "text/plain": [
       "{'Finland': 'fi', 'South Africa': 'za', 'Nepal': 'np'}"
      ]
     },
     "execution_count": 3,
     "metadata": {},
     "output_type": "execute_result"
    }
   ],
   "source": [
    "country_codes"
   ]
  },
  {
   "cell_type": "code",
   "execution_count": 4,
   "id": "c9ce0931-fe34-4914-9cdf-94cce98f27c2",
   "metadata": {},
   "outputs": [
    {
     "data": {
      "text/plain": [
       "3"
      ]
     },
     "execution_count": 4,
     "metadata": {},
     "output_type": "execute_result"
    }
   ],
   "source": [
    "len(country_codes)"
   ]
  },
  {
   "cell_type": "code",
   "execution_count": 5,
   "id": "fba5402f-d710-482c-b930-2662e2bf9ee8",
   "metadata": {},
   "outputs": [
    {
     "name": "stdout",
     "output_type": "stream",
     "text": [
      "country_codes is not empty\n"
     ]
    }
   ],
   "source": [
    "if country_codes:\n",
    "    print(f'country_codes is not empty')\n",
    "else:\n",
    "    print('country_codes is empty')"
   ]
  },
  {
   "cell_type": "code",
   "execution_count": 7,
   "id": "49982f09-f195-4faa-88dc-7e11bf560a38",
   "metadata": {},
   "outputs": [],
   "source": [
    "country_codes.clear()"
   ]
  },
  {
   "cell_type": "code",
   "execution_count": 9,
   "id": "afd30e1f-348e-478d-95c8-600c08e10948",
   "metadata": {},
   "outputs": [
    {
     "name": "stdout",
     "output_type": "stream",
     "text": [
      "country_codes is empty\n"
     ]
    }
   ],
   "source": [
    "if country_codes:\n",
    "    print('country_codes is not empty')\n",
    "else:\n",
    "    print('country_codes is empty')"
   ]
  },
  {
   "cell_type": "code",
   "execution_count": 10,
   "id": "e249ffc4-b140-42bd-880a-478a3189733f",
   "metadata": {},
   "outputs": [],
   "source": [
    "# Self Check 6.2.1 3"
   ]
  },
  {
   "cell_type": "code",
   "execution_count": 12,
   "id": "6aea8a5d-aa1f-44e3-8e26-fdd3612da05a",
   "metadata": {},
   "outputs": [],
   "source": [
    "states = {'VT': 'Vermont', 'NH': 'New Hampshire', 'MA': 'Massachusetts'}"
   ]
  },
  {
   "cell_type": "code",
   "execution_count": 13,
   "id": "dd3ea0b5-0dbe-4553-bff7-dae6476d286f",
   "metadata": {},
   "outputs": [
    {
     "data": {
      "text/plain": [
       "{'VT': 'Vermont', 'NH': 'New Hampshire', 'MA': 'Massachusetts'}"
      ]
     },
     "execution_count": 13,
     "metadata": {},
     "output_type": "execute_result"
    }
   ],
   "source": [
    "states"
   ]
  },
  {
   "cell_type": "code",
   "execution_count": 14,
   "id": "8cbbd90a-1892-4249-8bc2-ab0e768d4fb3",
   "metadata": {},
   "outputs": [],
   "source": [
    "days_per_month = {'January': 31, 'February': 28, 'March': 31}"
   ]
  },
  {
   "cell_type": "code",
   "execution_count": 15,
   "id": "ce4cad12-9b6b-4cfb-9766-05355a36fb60",
   "metadata": {},
   "outputs": [
    {
     "data": {
      "text/plain": [
       "{'January': 31, 'February': 28, 'March': 31}"
      ]
     },
     "execution_count": 15,
     "metadata": {},
     "output_type": "execute_result"
    }
   ],
   "source": [
    "days_per_month"
   ]
  },
  {
   "cell_type": "code",
   "execution_count": 16,
   "id": "44140fa2-0bd8-43f3-a549-a467694217bb",
   "metadata": {},
   "outputs": [
    {
     "name": "stdout",
     "output_type": "stream",
     "text": [
      "January has 31 days\n",
      "February has 28 days\n",
      "March has 31 days\n"
     ]
    }
   ],
   "source": [
    "for month, days in days_per_month.items():\n",
    "    print(f'{month} has {days} days')\n",
    "    "
   ]
  },
  {
   "cell_type": "code",
   "execution_count": 17,
   "id": "a8db5f44-f6f4-454b-8a24-e46f8d3b1fca",
   "metadata": {},
   "outputs": [],
   "source": [
    "roman_numerals = {'I': 1, 'II': 2, 'III': 3, 'V': 5, 'X': 100}"
   ]
  },
  {
   "cell_type": "code",
   "execution_count": 18,
   "id": "e245f63a-af74-4a87-9b40-126445245d26",
   "metadata": {},
   "outputs": [
    {
     "data": {
      "text/plain": [
       "{'I': 1, 'II': 2, 'III': 3, 'V': 5, 'X': 100}"
      ]
     },
     "execution_count": 18,
     "metadata": {},
     "output_type": "execute_result"
    }
   ],
   "source": [
    "roman_numerals"
   ]
  },
  {
   "cell_type": "code",
   "execution_count": 19,
   "id": "a810b09b-276a-4f43-a663-bc9289a51597",
   "metadata": {},
   "outputs": [
    {
     "data": {
      "text/plain": [
       "5"
      ]
     },
     "execution_count": 19,
     "metadata": {},
     "output_type": "execute_result"
    }
   ],
   "source": [
    "roman_numerals['V']"
   ]
  },
  {
   "cell_type": "code",
   "execution_count": 20,
   "id": "203c1947-f632-4a51-8c6d-63e29064786a",
   "metadata": {},
   "outputs": [],
   "source": [
    "roman_numerals['X'] = 10"
   ]
  },
  {
   "cell_type": "code",
   "execution_count": 21,
   "id": "05e394b9-ce94-446c-bc2d-c9d1f843ff7c",
   "metadata": {},
   "outputs": [
    {
     "data": {
      "text/plain": [
       "{'I': 1, 'II': 2, 'III': 3, 'V': 5, 'X': 10}"
      ]
     },
     "execution_count": 21,
     "metadata": {},
     "output_type": "execute_result"
    }
   ],
   "source": [
    "roman_numerals"
   ]
  },
  {
   "cell_type": "code",
   "execution_count": 22,
   "id": "f4481f90-fe59-4fd0-a5fd-8bb4926be368",
   "metadata": {},
   "outputs": [],
   "source": [
    "roman_numerals['L'] = 50"
   ]
  },
  {
   "cell_type": "code",
   "execution_count": 23,
   "id": "5c53faa5-3c1a-4802-bbdb-ed3ecae88191",
   "metadata": {},
   "outputs": [
    {
     "data": {
      "text/plain": [
       "{'I': 1, 'II': 2, 'III': 3, 'V': 5, 'X': 10, 'L': 50}"
      ]
     },
     "execution_count": 23,
     "metadata": {},
     "output_type": "execute_result"
    }
   ],
   "source": [
    "roman_numerals"
   ]
  },
  {
   "cell_type": "code",
   "execution_count": 24,
   "id": "4d5a13ad-0daa-42e3-83a0-d2940f4ae43d",
   "metadata": {},
   "outputs": [],
   "source": [
    "del roman_numerals['III']"
   ]
  },
  {
   "cell_type": "code",
   "execution_count": 25,
   "id": "8494b02e-cb69-49f5-a2d4-a4d99382f408",
   "metadata": {},
   "outputs": [
    {
     "data": {
      "text/plain": [
       "{'I': 1, 'II': 2, 'V': 5, 'X': 10, 'L': 50}"
      ]
     },
     "execution_count": 25,
     "metadata": {},
     "output_type": "execute_result"
    }
   ],
   "source": [
    "roman_numerals"
   ]
  },
  {
   "cell_type": "code",
   "execution_count": 26,
   "id": "600dc6a1-4c38-40d4-acbe-c0a99e33529a",
   "metadata": {},
   "outputs": [
    {
     "data": {
      "text/plain": [
       "10"
      ]
     },
     "execution_count": 26,
     "metadata": {},
     "output_type": "execute_result"
    }
   ],
   "source": [
    "roman_numerals.pop('X')"
   ]
  },
  {
   "cell_type": "code",
   "execution_count": 27,
   "id": "525d593c-cb05-4265-a6eb-cc4f439ef52d",
   "metadata": {},
   "outputs": [
    {
     "data": {
      "text/plain": [
       "{'I': 1, 'II': 2, 'V': 5, 'L': 50}"
      ]
     },
     "execution_count": 27,
     "metadata": {},
     "output_type": "execute_result"
    }
   ],
   "source": [
    "roman_numerals"
   ]
  },
  {
   "cell_type": "code",
   "execution_count": 28,
   "id": "5cd1da9a-0b85-47ea-92ab-995aa8fe7868",
   "metadata": {},
   "outputs": [
    {
     "ename": "KeyError",
     "evalue": "'III'",
     "output_type": "error",
     "traceback": [
      "\u001b[1;31m---------------------------------------------------------------------------\u001b[0m",
      "\u001b[1;31mKeyError\u001b[0m                                  Traceback (most recent call last)",
      "Input \u001b[1;32mIn [28]\u001b[0m, in \u001b[0;36m<module>\u001b[1;34m\u001b[0m\n\u001b[1;32m----> 1\u001b[0m \u001b[43mroman_numerals\u001b[49m\u001b[43m[\u001b[49m\u001b[38;5;124;43m'\u001b[39;49m\u001b[38;5;124;43mIII\u001b[39;49m\u001b[38;5;124;43m'\u001b[39;49m\u001b[43m]\u001b[49m\n",
      "\u001b[1;31mKeyError\u001b[0m: 'III'"
     ]
    }
   ],
   "source": [
    "roman_numerals['III']"
   ]
  },
  {
   "cell_type": "code",
   "execution_count": 29,
   "id": "3d62d08a-d5e9-4d4c-a133-77c707ef9c3d",
   "metadata": {},
   "outputs": [],
   "source": [
    "roman_numerals.get('III')"
   ]
  },
  {
   "cell_type": "code",
   "execution_count": 30,
   "id": "3bfe3448-3bb9-43ec-9434-81b8aaf638c9",
   "metadata": {},
   "outputs": [
    {
     "data": {
      "text/plain": [
       "'III not in dictionary'"
      ]
     },
     "execution_count": 30,
     "metadata": {},
     "output_type": "execute_result"
    }
   ],
   "source": [
    "roman_numerals.get('III', 'III not in dictionary')"
   ]
  },
  {
   "cell_type": "code",
   "execution_count": 31,
   "id": "c4c07837-befc-4263-a090-92326b095419",
   "metadata": {},
   "outputs": [
    {
     "data": {
      "text/plain": [
       "5"
      ]
     },
     "execution_count": 31,
     "metadata": {},
     "output_type": "execute_result"
    }
   ],
   "source": [
    "roman_numerals.get('V')"
   ]
  },
  {
   "cell_type": "code",
   "execution_count": 32,
   "id": "a4b0cd88-7022-48ed-bf84-b7712638691e",
   "metadata": {},
   "outputs": [
    {
     "data": {
      "text/plain": [
       "True"
      ]
     },
     "execution_count": 32,
     "metadata": {},
     "output_type": "execute_result"
    }
   ],
   "source": [
    "'V' in roman_numerals"
   ]
  },
  {
   "cell_type": "code",
   "execution_count": 34,
   "id": "069c3f1f-2435-437f-9d7c-0d590119967c",
   "metadata": {},
   "outputs": [
    {
     "data": {
      "text/plain": [
       "False"
      ]
     },
     "execution_count": 34,
     "metadata": {},
     "output_type": "execute_result"
    }
   ],
   "source": [
    "'III' in roman_numerals"
   ]
  },
  {
   "cell_type": "code",
   "execution_count": 35,
   "id": "e1ba1537-2ec9-41f4-82a5-6d6d24311a1d",
   "metadata": {},
   "outputs": [
    {
     "data": {
      "text/plain": [
       "True"
      ]
     },
     "execution_count": 35,
     "metadata": {},
     "output_type": "execute_result"
    }
   ],
   "source": [
    "'III' not in roman_numerals"
   ]
  },
  {
   "cell_type": "code",
   "execution_count": 36,
   "id": "2de4ad08-294c-4d87-bd0c-7e587d7886c0",
   "metadata": {},
   "outputs": [],
   "source": [
    "# Self Check 6.2.3 3"
   ]
  },
  {
   "cell_type": "code",
   "execution_count": 37,
   "id": "8d788317-e8a6-4fcd-95be-10ed8f227b8e",
   "metadata": {},
   "outputs": [],
   "source": [
    "roman_numerals = {'I': 1, 'II': 2, 'III': 3, 'V': 5, 'X': 100}"
   ]
  },
  {
   "cell_type": "code",
   "execution_count": 38,
   "id": "7f4398ca-6f44-472d-b1c1-aaa3e126142c",
   "metadata": {},
   "outputs": [],
   "source": [
    "roman_numerals['x'] = 10"
   ]
  },
  {
   "cell_type": "code",
   "execution_count": 39,
   "id": "a9e5b539-0d12-498f-bfd4-4941a8e350a0",
   "metadata": {},
   "outputs": [
    {
     "data": {
      "text/plain": [
       "{'I': 1, 'II': 2, 'III': 3, 'V': 5, 'X': 100, 'x': 10}"
      ]
     },
     "execution_count": 39,
     "metadata": {},
     "output_type": "execute_result"
    }
   ],
   "source": [
    "roman_numerals"
   ]
  },
  {
   "cell_type": "code",
   "execution_count": 74,
   "id": "94d477c1-fdeb-4751-bc39-2eaa4d95e2e8",
   "metadata": {},
   "outputs": [],
   "source": [
    "months = {'January': 1, 'February': 2, 'March': 3}"
   ]
  },
  {
   "cell_type": "code",
   "execution_count": 75,
   "id": "4666e067-448c-4a39-b036-3707330d64da",
   "metadata": {},
   "outputs": [
    {
     "name": "stdout",
     "output_type": "stream",
     "text": [
      "January February March "
     ]
    }
   ],
   "source": [
    "for month_name in months.keys():\n",
    "    print(month_name, end=' ')"
   ]
  },
  {
   "cell_type": "code",
   "execution_count": 76,
   "id": "d4281a5b-494b-4484-a883-b0e9234c2802",
   "metadata": {},
   "outputs": [
    {
     "name": "stdout",
     "output_type": "stream",
     "text": [
      "1 2 3 "
     ]
    }
   ],
   "source": [
    "for month_number in months.values():\n",
    "    print(month_number, end=' ')"
   ]
  },
  {
   "cell_type": "code",
   "execution_count": 77,
   "id": "3d0496c4-da8a-45a9-bc90-f776c655b855",
   "metadata": {},
   "outputs": [],
   "source": [
    "months_view = months.keys()"
   ]
  },
  {
   "cell_type": "code",
   "execution_count": 78,
   "id": "1b0aefa6-3859-4a8f-b255-b790db0a9313",
   "metadata": {},
   "outputs": [
    {
     "name": "stdout",
     "output_type": "stream",
     "text": [
      "January February March "
     ]
    }
   ],
   "source": [
    "for key in months_view:\n",
    "    print(key, end=' ')"
   ]
  },
  {
   "cell_type": "code",
   "execution_count": 81,
   "id": "cebcc3b7-d294-4649-9bc0-574e0ac87c12",
   "metadata": {},
   "outputs": [],
   "source": [
    "months['December'] = 12"
   ]
  },
  {
   "cell_type": "code",
   "execution_count": 82,
   "id": "b5af9c96-c5cb-4bbf-92d2-fef5fbf32e6f",
   "metadata": {},
   "outputs": [
    {
     "data": {
      "text/plain": [
       "{'January': 1, 'February': 2, 'March': 3, 'December': 12}"
      ]
     },
     "execution_count": 82,
     "metadata": {},
     "output_type": "execute_result"
    }
   ],
   "source": [
    "months"
   ]
  },
  {
   "cell_type": "code",
   "execution_count": 83,
   "id": "14109126-d7cf-4f92-acd9-a6fbe3ed89ae",
   "metadata": {},
   "outputs": [
    {
     "name": "stdout",
     "output_type": "stream",
     "text": [
      "January February March December "
     ]
    }
   ],
   "source": [
    "for key in months_view:\n",
    "    print(key, end=' ')"
   ]
  },
  {
   "cell_type": "code",
   "execution_count": 84,
   "id": "02fdf460-4b87-4542-a595-ebe75f79fcf0",
   "metadata": {},
   "outputs": [
    {
     "data": {
      "text/plain": [
       "['January', 'February', 'March', 'December']"
      ]
     },
     "execution_count": 84,
     "metadata": {},
     "output_type": "execute_result"
    }
   ],
   "source": [
    "list(months.keys())"
   ]
  },
  {
   "cell_type": "code",
   "execution_count": 85,
   "id": "a19a677e-0bd2-4e23-bc4f-4246f7b7a528",
   "metadata": {},
   "outputs": [
    {
     "data": {
      "text/plain": [
       "[1, 2, 3, 12]"
      ]
     },
     "execution_count": 85,
     "metadata": {},
     "output_type": "execute_result"
    }
   ],
   "source": [
    "list(months.values())"
   ]
  },
  {
   "cell_type": "code",
   "execution_count": 86,
   "id": "5ef89e19-c4f8-402f-ba86-bb4d3d580a11",
   "metadata": {},
   "outputs": [
    {
     "data": {
      "text/plain": [
       "[('January', 1), ('February', 2), ('March', 3), ('December', 12)]"
      ]
     },
     "execution_count": 86,
     "metadata": {},
     "output_type": "execute_result"
    }
   ],
   "source": [
    "list(months.items())"
   ]
  },
  {
   "cell_type": "code",
   "execution_count": 88,
   "id": "4bbeecb9-e60c-4ab4-b6cd-3292aaacdcb1",
   "metadata": {},
   "outputs": [
    {
     "name": "stdout",
     "output_type": "stream",
     "text": [
      "December February January March "
     ]
    }
   ],
   "source": [
    "for month_name in sorted(months.keys()):\n",
    "    print(month_name, end=' ')"
   ]
  },
  {
   "cell_type": "code",
   "execution_count": 100,
   "id": "8d3ede99-94cf-451e-b8af-a1b54c0f6749",
   "metadata": {},
   "outputs": [],
   "source": [
    "country_capitals1 = {'Belguim': 'Brussels', 'Haiti': 'Port-au-Prince'}"
   ]
  },
  {
   "cell_type": "code",
   "execution_count": 101,
   "id": "51584de2-97e3-4357-a6ff-2e6e6ebc5ee7",
   "metadata": {},
   "outputs": [],
   "source": [
    "country_capitals2 = {'Nepal': 'Kathmandu', 'Uruguay': 'Brussels'}"
   ]
  },
  {
   "cell_type": "code",
   "execution_count": 102,
   "id": "d6dbe20c-cd71-4914-ab74-bff57f8ee5de",
   "metadata": {},
   "outputs": [],
   "source": [
    "country_capitals3 = {'Haiti': 'Port-au-Prince', 'Belguim': 'Brussels'}"
   ]
  },
  {
   "cell_type": "code",
   "execution_count": 103,
   "id": "d970893c-5315-4979-a6c5-d27f84e9c1fb",
   "metadata": {},
   "outputs": [
    {
     "data": {
      "text/plain": [
       "False"
      ]
     },
     "execution_count": 103,
     "metadata": {},
     "output_type": "execute_result"
    }
   ],
   "source": [
    "country_capitals1 == country_capitals2"
   ]
  },
  {
   "cell_type": "code",
   "execution_count": 104,
   "id": "634ce550-9e42-416e-ba2f-b42e3ef6859f",
   "metadata": {},
   "outputs": [
    {
     "data": {
      "text/plain": [
       "True"
      ]
     },
     "execution_count": 104,
     "metadata": {},
     "output_type": "execute_result"
    }
   ],
   "source": [
    "country_capitals1 == country_capitals3"
   ]
  },
  {
   "cell_type": "code",
   "execution_count": 105,
   "id": "6f7a6a8f-18f2-4cfc-b02f-a0fcf3e575ae",
   "metadata": {},
   "outputs": [
    {
     "data": {
      "text/plain": [
       "True"
      ]
     },
     "execution_count": 105,
     "metadata": {},
     "output_type": "execute_result"
    }
   ],
   "source": [
    "country_capitals1 != country_capitals2"
   ]
  },
  {
   "cell_type": "code",
   "execution_count": 106,
   "id": "6e2dc95a-d05f-408c-a085-5cdf82becf00",
   "metadata": {},
   "outputs": [],
   "source": [
    "# fig06.01.py"
   ]
  },
  {
   "cell_type": "code",
   "execution_count": 107,
   "id": "4986509e-b007-4fe3-b947-88b3aad00678",
   "metadata": {},
   "outputs": [
    {
     "data": {
      "text/plain": [
       "\"Using a dictionary to represent an instructors's grade book.\""
      ]
     },
     "execution_count": 107,
     "metadata": {},
     "output_type": "execute_result"
    }
   ],
   "source": [
    "\"\"\"Using a dictionary to represent an instructors's grade book.\"\"\""
   ]
  },
  {
   "cell_type": "code",
   "execution_count": 117,
   "id": "d61868ec-1b6c-4d96-9d3c-4f6a09e71ac1",
   "metadata": {},
   "outputs": [],
   "source": [
    "grade_book = {\n",
    "    'Susan': [92, 85, 100],\n",
    "    'Eduardo': [83, 95, 70],\n",
    "    'Azizi': [91, 89, 82],\n",
    "    'Pantipa': [97, 91, 92]}"
   ]
  },
  {
   "cell_type": "code",
   "execution_count": 118,
   "id": "62f05c87-2e40-484c-91bd-b29f777a4607",
   "metadata": {},
   "outputs": [],
   "source": [
    "all_grades_total = 0"
   ]
  },
  {
   "cell_type": "code",
   "execution_count": 129,
   "id": "1c22bbc4-22d4-4281-be71-1b30f55defdf",
   "metadata": {},
   "outputs": [],
   "source": [
    "all_grades_count = 0"
   ]
  },
  {
   "cell_type": "code",
   "execution_count": 130,
   "id": "1aeb0987-0071-4745-8b2c-4bbf9958f184",
   "metadata": {},
   "outputs": [
    {
     "name": "stdout",
     "output_type": "stream",
     "text": [
      "Average for Susan is 92.33\n",
      "Average for Eduardo is 82.67\n",
      "Average for Azizi is 87.33\n",
      "Average for Pantipa is 93.33\n",
      "Class's average is: 533.50\n"
     ]
    }
   ],
   "source": [
    "for name, grades in grade_book.items():\n",
    "    total = sum(grades)\n",
    "    print(f'Average for {name} is {total/len(grades):.2f}')\n",
    "    all_grades_total += total\n",
    "    all_grades_count += len(grades)\n",
    "print(f\"Class's average is: {all_grades_total / all_grades_count:.2f}\")"
   ]
  },
  {
   "cell_type": "code",
   "execution_count": 131,
   "id": "27e7e98e-1fe1-4868-bae9-3af56786e563",
   "metadata": {},
   "outputs": [],
   "source": [
    "country_codes = {}"
   ]
  },
  {
   "cell_type": "code",
   "execution_count": 132,
   "id": "b53da93d-0348-4a21-ac36-66be8956be45",
   "metadata": {},
   "outputs": [],
   "source": [
    "country_codes.update({'South Africa': 'za'})"
   ]
  },
  {
   "cell_type": "code",
   "execution_count": 133,
   "id": "1b604a35-c3e6-435c-9d19-fd06f2749716",
   "metadata": {},
   "outputs": [
    {
     "data": {
      "text/plain": [
       "{'South Africa': 'za'}"
      ]
     },
     "execution_count": 133,
     "metadata": {},
     "output_type": "execute_result"
    }
   ],
   "source": [
    "country_codes"
   ]
  },
  {
   "cell_type": "code",
   "execution_count": 134,
   "id": "c927149f-5bd1-4e58-8aef-da9d93a1c140",
   "metadata": {},
   "outputs": [],
   "source": [
    "country_codes.update(Australia='ar')"
   ]
  },
  {
   "cell_type": "code",
   "execution_count": 135,
   "id": "aca9b887-7cc5-4a2a-a634-7b9f01cee16a",
   "metadata": {},
   "outputs": [
    {
     "data": {
      "text/plain": [
       "{'South Africa': 'za', 'Australia': 'ar'}"
      ]
     },
     "execution_count": 135,
     "metadata": {},
     "output_type": "execute_result"
    }
   ],
   "source": [
    "country_codes"
   ]
  },
  {
   "cell_type": "code",
   "execution_count": 136,
   "id": "688a746c-8a54-40a0-944d-d49d643e40fc",
   "metadata": {},
   "outputs": [],
   "source": [
    "country_codes.update(Australia='au')"
   ]
  },
  {
   "cell_type": "code",
   "execution_count": 137,
   "id": "b683cace-8645-44f6-aa9d-880f3e2f6b2a",
   "metadata": {},
   "outputs": [
    {
     "data": {
      "text/plain": [
       "{'South Africa': 'za', 'Australia': 'au'}"
      ]
     },
     "execution_count": 137,
     "metadata": {},
     "output_type": "execute_result"
    }
   ],
   "source": [
    "country_codes"
   ]
  },
  {
   "cell_type": "code",
   "execution_count": 143,
   "id": "13ae465a-3c76-4c60-8866-6ffaa8d2f3f2",
   "metadata": {},
   "outputs": [],
   "source": [
    "months = {'January': 1, 'February': 2, 'March': 3}"
   ]
  },
  {
   "cell_type": "code",
   "execution_count": 141,
   "id": "ff6565e7-2a8d-45fc-9fd7-53724379e080",
   "metadata": {},
   "outputs": [],
   "source": [
    "months2 = {number: name for name, number in months.items()}"
   ]
  },
  {
   "cell_type": "code",
   "execution_count": 142,
   "id": "5b88e3f0-96c0-4edc-a845-c1f765b0dde3",
   "metadata": {},
   "outputs": [
    {
     "data": {
      "text/plain": [
       "{1: 'January', 2: 'February', 3: 'March'}"
      ]
     },
     "execution_count": 142,
     "metadata": {},
     "output_type": "execute_result"
    }
   ],
   "source": [
    "months2"
   ]
  },
  {
   "cell_type": "code",
   "execution_count": 145,
   "id": "a0cc6876-91b3-4db8-97e2-fd1e42097234",
   "metadata": {},
   "outputs": [],
   "source": [
    "grades = {'Sue': [98, 87, 94], 'Bob': [84, 95, 91]}"
   ]
  },
  {
   "cell_type": "code",
   "execution_count": 146,
   "id": "bc2df86a-dcb5-4d91-b807-59642ec062a6",
   "metadata": {},
   "outputs": [],
   "source": [
    "grades2 = {k: sum(v) / len(v) for k, v in grades.items()}"
   ]
  },
  {
   "cell_type": "code",
   "execution_count": 147,
   "id": "51c38d98-8410-4b96-abaf-fbae47dfa318",
   "metadata": {},
   "outputs": [
    {
     "data": {
      "text/plain": [
       "{'Sue': 93.0, 'Bob': 90.0}"
      ]
     },
     "execution_count": 147,
     "metadata": {},
     "output_type": "execute_result"
    }
   ],
   "source": [
    "grades2"
   ]
  },
  {
   "cell_type": "code",
   "execution_count": 148,
   "id": "097d17fe-953d-4ae4-9cdd-4c35713650fb",
   "metadata": {},
   "outputs": [],
   "source": [
    "# Self Check 6.2.9"
   ]
  },
  {
   "cell_type": "code",
   "execution_count": 154,
   "id": "add4245e-f27f-4646-b879-49a1bd9dea66",
   "metadata": {},
   "outputs": [
    {
     "data": {
      "text/plain": [
       "{1: 1, 2: 8, 3: 27, 4: 64, 5: 125}"
      ]
     },
     "execution_count": 154,
     "metadata": {},
     "output_type": "execute_result"
    }
   ],
   "source": [
    "{number: number ** 3 for number in range(1, 6)}"
   ]
  }
 ],
 "metadata": {
  "kernelspec": {
   "display_name": "Python 3 (ipykernel)",
   "language": "python",
   "name": "python3"
  },
  "language_info": {
   "codemirror_mode": {
    "name": "ipython",
    "version": 3
   },
   "file_extension": ".py",
   "mimetype": "text/x-python",
   "name": "python",
   "nbconvert_exporter": "python",
   "pygments_lexer": "ipython3",
   "version": "3.9.7"
  }
 },
 "nbformat": 4,
 "nbformat_minor": 5
}
